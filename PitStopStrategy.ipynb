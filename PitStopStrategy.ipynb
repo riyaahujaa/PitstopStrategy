{
 "cells": [
  {
   "cell_type": "code",
   "execution_count": 1,
   "id": "454c558b-0811-4200-b685-89e426a73008",
   "metadata": {},
   "outputs": [],
   "source": [
    "import fastf1\n",
    "from fastf1 import plotting\n",
    "import pandas as pd\n",
    "import numpy as np\n",
    "import plotly.graph_objects as go\n",
    "import plotly.express as px\n",
    "from sklearn.linear_model import LinearRegression\n",
    "from sklearn.pipeline import Pipeline\n",
    "from sklearn.preprocessing import OneHotEncoder\n",
    "from sklearn.compose import ColumnTransformer\n",
    "from sklearn.ensemble import RandomForestRegressor\n"
   ]
  },
  {
   "cell_type": "code",
   "execution_count": 2,
   "id": "44eaa5b6-4fd0-429e-906d-e530e4c9165a",
   "metadata": {},
   "outputs": [],
   "source": [
    "fastf1.Cache.enable_cache('f1_cache')  "
   ]
  },
  {
   "cell_type": "code",
   "execution_count": 3,
   "id": "d6ebe28c-b1cc-4f19-9223-36436b59d394",
   "metadata": {},
   "outputs": [
    {
     "name": "stderr",
     "output_type": "stream",
     "text": [
      "core           INFO \tLoading data for Italian Grand Prix - Race [v3.5.3]\n",
      "req            INFO \tUsing cached data for session_info\n",
      "req            INFO \tUsing cached data for driver_info\n",
      "req            INFO \tUsing cached data for session_status_data\n",
      "req            INFO \tUsing cached data for lap_count\n",
      "req            INFO \tUsing cached data for track_status_data\n",
      "req            INFO \tUsing cached data for _extended_timing_data\n",
      "req            INFO \tUsing cached data for timing_app_data\n",
      "core           INFO \tProcessing timing data...\n",
      "req            INFO \tUsing cached data for car_data\n",
      "req            INFO \tUsing cached data for position_data\n",
      "req            INFO \tUsing cached data for weather_data\n",
      "req            INFO \tUsing cached data for race_control_messages\n",
      "core           INFO \tFinished loading data for 20 drivers: ['16', '81', '4', '55', '44', '1', '63', '11', '23', '20', '14', '43', '3', '31', '10', '77', '27', '24', '18', '22']\n"
     ]
    }
   ],
   "source": [
    "session = fastf1.get_session(2024, 'Monza', 'R')\n",
    "session.load()"
   ]
  },
  {
   "cell_type": "code",
   "execution_count": 4,
   "id": "0dc42f4a-8c4d-441d-93d9-90f70a4e4aa9",
   "metadata": {},
   "outputs": [
    {
     "data": {
      "text/html": [
       "<div>\n",
       "<style scoped>\n",
       "    .dataframe tbody tr th:only-of-type {\n",
       "        vertical-align: middle;\n",
       "    }\n",
       "\n",
       "    .dataframe tbody tr th {\n",
       "        vertical-align: top;\n",
       "    }\n",
       "\n",
       "    .dataframe thead th {\n",
       "        text-align: right;\n",
       "    }\n",
       "</style>\n",
       "<table border=\"1\" class=\"dataframe\">\n",
       "  <thead>\n",
       "    <tr style=\"text-align: right;\">\n",
       "      <th></th>\n",
       "      <th>TyreLife</th>\n",
       "      <th>Compound</th>\n",
       "      <th>LapTimeSeconds</th>\n",
       "    </tr>\n",
       "  </thead>\n",
       "  <tbody>\n",
       "    <tr>\n",
       "      <th>1</th>\n",
       "      <td>2.0</td>\n",
       "      <td>MEDIUM</td>\n",
       "      <td>85.396</td>\n",
       "    </tr>\n",
       "    <tr>\n",
       "      <th>2</th>\n",
       "      <td>3.0</td>\n",
       "      <td>MEDIUM</td>\n",
       "      <td>85.179</td>\n",
       "    </tr>\n",
       "    <tr>\n",
       "      <th>3</th>\n",
       "      <td>4.0</td>\n",
       "      <td>MEDIUM</td>\n",
       "      <td>84.810</td>\n",
       "    </tr>\n",
       "    <tr>\n",
       "      <th>4</th>\n",
       "      <td>5.0</td>\n",
       "      <td>MEDIUM</td>\n",
       "      <td>84.603</td>\n",
       "    </tr>\n",
       "    <tr>\n",
       "      <th>5</th>\n",
       "      <td>6.0</td>\n",
       "      <td>MEDIUM</td>\n",
       "      <td>84.663</td>\n",
       "    </tr>\n",
       "  </tbody>\n",
       "</table>\n",
       "</div>"
      ],
      "text/plain": [
       "   TyreLife Compound  LapTimeSeconds\n",
       "1       2.0   MEDIUM          85.396\n",
       "2       3.0   MEDIUM          85.179\n",
       "3       4.0   MEDIUM          84.810\n",
       "4       5.0   MEDIUM          84.603\n",
       "5       6.0   MEDIUM          84.663"
      ]
     },
     "execution_count": 4,
     "metadata": {},
     "output_type": "execute_result"
    }
   ],
   "source": [
    "laps = session.laps\n",
    "laps = laps.pick_quicklaps()\n",
    "\n",
    "driver_laps = laps[laps['Driver'] == 'LEC'].copy()\n",
    "driver_laps.loc[:, 'LapTimeSeconds'] = driver_laps['LapTime'].dt.total_seconds()\n",
    "driver_laps = driver_laps[['TyreLife', 'Compound', 'LapTimeSeconds']].dropna()\n",
    "\n",
    "driver_laps.head(5)"
   ]
  },
  {
   "cell_type": "code",
   "execution_count": 13,
   "id": "446ee91b-5baa-4982-aa72-fad4ae409266",
   "metadata": {},
   "outputs": [
    {
     "name": "stdout",
     "output_type": "stream",
     "text": [
      "['LEC', 'PIA', 'NOR']\n"
     ]
    }
   ],
   "source": [
    "top3_drivers = session.results[:3]['Abbreviation'].values.tolist()\n",
    "print(top3_drivers)"
   ]
  },
  {
   "cell_type": "code",
   "execution_count": 14,
   "id": "039373f3-0ff1-42b2-964d-9458bccb9345",
   "metadata": {},
   "outputs": [],
   "source": [
    "all_laps = pd.DataFrame()\n",
    "\n",
    "for driver in top3_drivers:\n",
    "    driver_laps = laps.pick_drivers(driver).pick_quicklaps().copy()\n",
    "    driver_laps['LapTimeSeconds'] = driver_laps['LapTime'].dt.total_seconds()\n",
    "    driver_laps['Driver'] = driver\n",
    "    all_laps = pd.concat([all_laps, driver_laps], ignore_index=True)"
   ]
  },
  {
   "cell_type": "code",
   "execution_count": 15,
   "id": "d6aef6a4-8f4f-42f9-87bb-b8e250b7826d",
   "metadata": {},
   "outputs": [
    {
     "data": {
      "application/vnd.plotly.v1+json": {
       "config": {
        "plotlyServerURL": "https://plot.ly"
       },
       "data": [
        {
         "customdata": {
          "bdata": "AAAAAAAAAEAAAAAAAADwPwAAAAAAAAhAAAAAAAAA8D8AAAAAAAAQQAAAAAAAAPA/AAAAAAAAFEAAAAAAAADwPwAAAAAAABhAAAAAAAAA8D8AAAAAAAAcQAAAAAAAAPA/AAAAAAAAIEAAAAAAAADwPwAAAAAAACJAAAAAAAAA8D8AAAAAAAAkQAAAAAAAAPA/AAAAAAAAJkAAAAAAAADwPwAAAAAAAChAAAAAAAAA8D8AAAAAAAAqQAAAAAAAAPA/AAAAAAAALEAAAAAAAADwPw==",
          "dtype": "f8",
          "shape": "13, 2"
         },
         "hovertemplate": "Compound=MEDIUM<br>Driver=LEC<br>TyreLife=%{x}<br>LapTimeSeconds=%{y}<br>LapNumber=%{customdata[0]}<br>Stint=%{customdata[1]}<extra></extra>",
         "legendgroup": "MEDIUM, LEC",
         "marker": {
          "color": "#636efa",
          "symbol": "circle"
         },
         "mode": "markers",
         "name": "MEDIUM, LEC",
         "orientation": "v",
         "showlegend": true,
         "type": "scatter",
         "x": {
          "bdata": "AAAAAAAAAEAAAAAAAAAIQAAAAAAAABBAAAAAAAAAFEAAAAAAAAAYQAAAAAAAABxAAAAAAAAAIEAAAAAAAAAiQAAAAAAAACRAAAAAAAAAJkAAAAAAAAAoQAAAAAAAACpAAAAAAAAALEA=",
          "dtype": "f8"
         },
         "xaxis": "x",
         "y": {
          "bdata": "001iEFhZVUD6fmq8dEtVQKRwPQrXM1VAO99PjZcmVUDfT42XbipVQLKd76fGG1VAI9v5fmokVUC6SQwCKxdVQM/3U+OlG1VAoBov3SQ2VUC0yHa+nzpVQGDl0CLbYVVAEFg5tMhmVUA=",
          "dtype": "f8"
         },
         "yaxis": "y"
        },
        {
         "hovertemplate": "<b>LOWESS trendline</b><br><br>Compound=MEDIUM<br>Driver=LEC<br>TyreLife=%{x}<br>LapTimeSeconds=%{y} <b>(trend)</b><extra></extra>",
         "legendgroup": "MEDIUM, LEC",
         "marker": {
          "color": "#636efa",
          "symbol": "circle"
         },
         "mode": "lines",
         "name": "MEDIUM, LEC",
         "showlegend": false,
         "type": "scatter",
         "x": {
          "bdata": "AAAAAAAAAEAAAAAAAAAIQAAAAAAAABBAAAAAAAAAFEAAAAAAAAAYQAAAAAAAABxAAAAAAAAAIEAAAAAAAAAiQAAAAAAAACRAAAAAAAAAJkAAAAAAAAAoQAAAAAAAACpAAAAAAAAALEA=",
          "dtype": "f8"
         },
         "xaxis": "x",
         "y": {
          "bdata": "ukm1vzdVVUCh1UXrYEhVQKB3Ox8uPFVAzHM9fTAwVUAoTgnJ3ydVQG7pJtCbIlVA2Gm6Tb0gVUBxFBF1CyNVQNqwCOeeKVVAOWY4Ey01VUCGcJ6P2UVVQAJSGx/XVlVA9exg9WpoVUA=",
          "dtype": "f8"
         },
         "yaxis": "y"
        },
        {
         "customdata": {
          "bdata": "AAAAAAAAAEAAAAAAAADwPwAAAAAAAAhAAAAAAAAA8D8AAAAAAAAQQAAAAAAAAPA/AAAAAAAAFEAAAAAAAADwPwAAAAAAABhAAAAAAAAA8D8AAAAAAAAcQAAAAAAAAPA/AAAAAAAAIEAAAAAAAADwPwAAAAAAACJAAAAAAAAA8D8AAAAAAAAkQAAAAAAAAPA/AAAAAAAAJkAAAAAAAADwPwAAAAAAAChAAAAAAAAA8D8AAAAAAAAqQAAAAAAAAPA/AAAAAAAALEAAAAAAAADwPwAAAAAAAC5AAAAAAAAA8D8=",
          "dtype": "f8",
          "shape": "14, 2"
         },
         "hovertemplate": "Compound=MEDIUM<br>Driver=PIA<br>TyreLife=%{x}<br>LapTimeSeconds=%{y}<br>LapNumber=%{customdata[0]}<br>Stint=%{customdata[1]}<extra></extra>",
         "legendgroup": "MEDIUM, PIA",
         "marker": {
          "color": "#636efa",
          "symbol": "diamond"
         },
         "mode": "markers",
         "name": "MEDIUM, PIA",
         "orientation": "v",
         "showlegend": true,
         "type": "scatter",
         "x": {
          "bdata": "AAAAAAAAAEAAAAAAAAAIQAAAAAAAABBAAAAAAAAAFEAAAAAAAAAYQAAAAAAAABxAAAAAAAAAIEAAAAAAAAAiQAAAAAAAACRAAAAAAAAAJkAAAAAAAAAoQAAAAAAAACpAAAAAAAAALEAAAAAAAAAuQA==",
          "dtype": "f8"
         },
         "xaxis": "x2",
         "y": {
          "bdata": "gZVDi2xHVUBiEFg5tFBVQBSuR+F6LFVACtejcD0qVUA730+NlyZVQJhuEoPAGlVAFK5H4XokVUAAAAAAABhVQLByaJHtBFVAK4cW2c4PVUAdWmQ73y9VQHsUrkfhKlVAUI2XbhJDVUC0yHa+n0pVQA==",
          "dtype": "f8"
         },
         "yaxis": "y2"
        },
        {
         "hovertemplate": "<b>LOWESS trendline</b><br><br>Compound=MEDIUM<br>Driver=PIA<br>TyreLife=%{x}<br>LapTimeSeconds=%{y} <b>(trend)</b><extra></extra>",
         "legendgroup": "MEDIUM, PIA",
         "marker": {
          "color": "#636efa",
          "symbol": "diamond"
         },
         "mode": "lines",
         "name": "MEDIUM, PIA",
         "showlegend": false,
         "type": "scatter",
         "x": {
          "bdata": "AAAAAAAAAEAAAAAAAAAIQAAAAAAAABBAAAAAAAAAFEAAAAAAAAAYQAAAAAAAABxAAAAAAAAAIEAAAAAAAAAiQAAAAAAAACRAAAAAAAAAJkAAAAAAAAAoQAAAAAAAACpAAAAAAAAALEAAAAAAAAAuQA==",
          "dtype": "f8"
         },
         "xaxis": "x2",
         "y": {
          "bdata": "jnYSoRlJVUAq+zlFDEBVQOLnyrJuN1VAuR+vdQMvVUB8Yi5gTyZVQJdHkj0XIVVAENcRWrkbVUA7kYHVAhlVQCykddLJGlVAPCV/iIoeVUDU7agNcShVQP1V84QUM1VAkDzX4jw+VUDBC8Js00lVQA==",
          "dtype": "f8"
         },
         "yaxis": "y2"
        },
        {
         "customdata": {
          "bdata": "AAAAAAAAAEAAAAAAAADwPwAAAAAAAAhAAAAAAAAA8D8AAAAAAAAQQAAAAAAAAPA/AAAAAAAAFEAAAAAAAADwPwAAAAAAABhAAAAAAAAA8D8AAAAAAAAcQAAAAAAAAPA/AAAAAAAAIEAAAAAAAADwPwAAAAAAACJAAAAAAAAA8D8AAAAAAAAkQAAAAAAAAPA/AAAAAAAAJkAAAAAAAADwPwAAAAAAAChAAAAAAAAA8D8AAAAAAAAqQAAAAAAAAPA/",
          "dtype": "f8",
          "shape": "12, 2"
         },
         "hovertemplate": "Compound=MEDIUM<br>Driver=NOR<br>TyreLife=%{x}<br>LapTimeSeconds=%{y}<br>LapNumber=%{customdata[0]}<br>Stint=%{customdata[1]}<extra></extra>",
         "legendgroup": "MEDIUM, NOR",
         "marker": {
          "color": "#636efa",
          "symbol": "square"
         },
         "mode": "markers",
         "name": "MEDIUM, NOR",
         "orientation": "v",
         "showlegend": true,
         "type": "scatter",
         "x": {
          "bdata": "AAAAAAAAAEAAAAAAAAAIQAAAAAAAABBAAAAAAAAAFEAAAAAAAAAYQAAAAAAAABxAAAAAAAAAIEAAAAAAAAAiQAAAAAAAACRAAAAAAAAAJkAAAAAAAAAoQAAAAAAAACpA",
          "dtype": "f8"
         },
         "xaxis": "x3",
         "y": {
          "bdata": "WmQ7309dVUDXo3A9CkdVQJhuEoPASlVAQmDl0CIrVUD+1HjpJjFVQESLbOf7IVVAQmDl0CIrVUDRItv5fipVQBsv3SQGGVVA6SYxCKwcVUBSuB6F6ylVQOXQItv5VlVA",
          "dtype": "f8"
         },
         "yaxis": "y3"
        },
        {
         "hovertemplate": "<b>LOWESS trendline</b><br><br>Compound=MEDIUM<br>Driver=NOR<br>TyreLife=%{x}<br>LapTimeSeconds=%{y} <b>(trend)</b><extra></extra>",
         "legendgroup": "MEDIUM, NOR",
         "marker": {
          "color": "#636efa",
          "symbol": "square"
         },
         "mode": "lines",
         "name": "MEDIUM, NOR",
         "showlegend": false,
         "type": "scatter",
         "x": {
          "bdata": "AAAAAAAAAEAAAAAAAAAIQAAAAAAAABBAAAAAAAAAFEAAAAAAAAAYQAAAAAAAABxAAAAAAAAAIEAAAAAAAAAiQAAAAAAAACRAAAAAAAAAJkAAAAAAAAAoQAAAAAAAACpA",
          "dtype": "f8"
         },
         "xaxis": "x3",
         "y": {
          "bdata": "T3FkzTVaVUAy9n9qDU5VQOOUn9wAQlVA65IxleE2VUA7Dhr24y1VQBnymNMXKlVAYSFXcIUnVUBDUeteBCRVQCMedI7/IVVA8UKjG1QqVUBOIWzAATVVQPwYI0EjQVVA",
          "dtype": "f8"
         },
         "yaxis": "y3"
        },
        {
         "customdata": {
          "bdata": "AAAAAAAAMUAAAAAAAAAAQAAAAAAAADJAAAAAAAAAAEAAAAAAAAAzQAAAAAAAAABAAAAAAAAANEAAAAAAAAAAQAAAAAAAADVAAAAAAAAAAEAAAAAAAAA2QAAAAAAAAABAAAAAAAAAN0AAAAAAAAAAQAAAAAAAADhAAAAAAAAAAEAAAAAAAAA5QAAAAAAAAABAAAAAAAAAOkAAAAAAAAAAQAAAAAAAADtAAAAAAAAAAEAAAAAAAAA8QAAAAAAAAABAAAAAAAAAPUAAAAAAAAAAQAAAAAAAAD5AAAAAAAAAAEAAAAAAAAA/QAAAAAAAAABAAAAAAAAAQEAAAAAAAAAAQAAAAAAAgEBAAAAAAAAAAEAAAAAAAABBQAAAAAAAAABAAAAAAACAQUAAAAAAAAAAQAAAAAAAAEJAAAAAAAAAAEAAAAAAAIBCQAAAAAAAAABAAAAAAAAAQ0AAAAAAAAAAQAAAAAAAgENAAAAAAAAAAEAAAAAAAABEQAAAAAAAAABAAAAAAACAREAAAAAAAAAAQAAAAAAAAEVAAAAAAAAAAEAAAAAAAIBFQAAAAAAAAABAAAAAAAAARkAAAAAAAAAAQAAAAAAAgEZAAAAAAAAAAEAAAAAAAABHQAAAAAAAAABAAAAAAACAR0AAAAAAAAAAQAAAAAAAAEhAAAAAAAAAAEAAAAAAAIBIQAAAAAAAAABAAAAAAAAASUAAAAAAAAAAQAAAAAAAgElAAAAAAAAAAEAAAAAAAABKQAAAAAAAAABAAAAAAACASkAAAAAAAAAAQA==",
          "dtype": "f8",
          "shape": "37, 2"
         },
         "hovertemplate": "Compound=HARD<br>Driver=LEC<br>TyreLife=%{x}<br>LapTimeSeconds=%{y}<br>LapNumber=%{customdata[0]}<br>Stint=%{customdata[1]}<extra></extra>",
         "legendgroup": "HARD, LEC",
         "marker": {
          "color": "#EF553B",
          "symbol": "circle"
         },
         "mode": "markers",
         "name": "HARD, LEC",
         "orientation": "v",
         "showlegend": true,
         "type": "scatter",
         "x": {
          "bdata": "AAAAAAAAAEAAAAAAAAAIQAAAAAAAABBAAAAAAAAAFEAAAAAAAAAYQAAAAAAAABxAAAAAAAAAIEAAAAAAAAAiQAAAAAAAACRAAAAAAAAAJkAAAAAAAAAoQAAAAAAAACpAAAAAAAAALEAAAAAAAAAuQAAAAAAAADBAAAAAAAAAMUAAAAAAAAAyQAAAAAAAADNAAAAAAAAANEAAAAAAAAA1QAAAAAAAADZAAAAAAAAAN0AAAAAAAAA4QAAAAAAAADlAAAAAAAAAOkAAAAAAAAA7QAAAAAAAADxAAAAAAAAAPUAAAAAAAAA+QAAAAAAAAD9AAAAAAAAAQEAAAAAAAIBAQAAAAAAAAEFAAAAAAACAQUAAAAAAAABCQAAAAAAAgEJAAAAAAAAAQ0A=",
          "dtype": "f8"
         },
         "xaxis": "x",
         "y": {
          "bdata": "4XoUrkcRVUAAAAAAAPhUQKJFtvP9DFVAvp8aL930VEC4HoXrUfhUQP7UeOkm8VRAnu+nxkv3VEApXI/C9ehUQPYoXI/C5VRABoGVQ4vUVEAZBFYOLeJUQBkEVg4t0lRALbKd76fOVEDl0CLb+dZUQJHtfD81/lRAqMZLN4nRVEBYObTIds5UQOxRuB6F21RA3SQGgZXrVEAEVg4tsu1UQDMzMzMz41RADi2yne/nVEDLoUW28+1UQFyPwvUo7FRAyXa+nxrnVEB7FK5H4epUQHNoke1891RA7FG4HoXbVEAQWDm0yO5UQJHtfD815lRAJQaBlUPrVED+1HjpJuFUQNnO91Pj3VRAL90kBoHdVEDsUbgeheNUQAAAAAAA8FRA/tR46SbRVEA=",
          "dtype": "f8"
         },
         "yaxis": "y"
        },
        {
         "hovertemplate": "<b>LOWESS trendline</b><br><br>Compound=HARD<br>Driver=LEC<br>TyreLife=%{x}<br>LapTimeSeconds=%{y} <b>(trend)</b><extra></extra>",
         "legendgroup": "HARD, LEC",
         "marker": {
          "color": "#EF553B",
          "symbol": "circle"
         },
         "mode": "lines",
         "name": "HARD, LEC",
         "showlegend": false,
         "type": "scatter",
         "x": {
          "bdata": "AAAAAAAAAEAAAAAAAAAIQAAAAAAAABBAAAAAAAAAFEAAAAAAAAAYQAAAAAAAABxAAAAAAAAAIEAAAAAAAAAiQAAAAAAAACRAAAAAAAAAJkAAAAAAAAAoQAAAAAAAACpAAAAAAAAALEAAAAAAAAAuQAAAAAAAADBAAAAAAAAAMUAAAAAAAAAyQAAAAAAAADNAAAAAAAAANEAAAAAAAAA1QAAAAAAAADZAAAAAAAAAN0AAAAAAAAA4QAAAAAAAADlAAAAAAAAAOkAAAAAAAAA7QAAAAAAAADxAAAAAAAAAPUAAAAAAAAA+QAAAAAAAAD9AAAAAAAAAQEAAAAAAAIBAQAAAAAAAAEFAAAAAAACAQUAAAAAAAABCQAAAAAAAgEJAAAAAAAAAQ0A=",
          "dtype": "f8"
         },
         "xaxis": "x",
         "y": {
          "bdata": "V9p6MqYDVUACsLmlKwBVQIMICHTD/FRAClYooW/5VECCvARsMfZUQB08r0MK81RAHAaem/vvVEAlndDJBu1UQCzbEewr6lRAQP6er2nnVEDLZKdAveRUQCJnESQs4lRAdQxySibhVEABMuwBd+BUQKWmqFYW4FRAfcl2AQXgVECiKWaqTuBUQHS6Qkby4FRAROEN5enhVEBf5ZYBG+NUQCpE7Jti5FRAlZw30JflVEBMclMnmeZUQJvhTQNK51RArZPrz6vnVEB2tbCR0OdUQNfvFelN51RAtPo6z77mVEDdK0quJeZUQCQj14iD5VRAw2tmptjkVEChHVoiJeRUQKmZDcdo41RAYfA0y6PiVEDq1OYR1+FUQChbnuYD4VRAkEv8+CrgVEA=",
          "dtype": "f8"
         },
         "yaxis": "y"
        },
        {
         "customdata": {
          "bdata": "AAAAAAAAMkAAAAAAAAAAQAAAAAAAADNAAAAAAAAAAEAAAAAAAAA0QAAAAAAAAABAAAAAAAAANUAAAAAAAAAAQAAAAAAAADZAAAAAAAAAAEAAAAAAAAA3QAAAAAAAAABAAAAAAAAAOEAAAAAAAAAAQAAAAAAAADlAAAAAAAAAAEAAAAAAAAA6QAAAAAAAAABAAAAAAAAAO0AAAAAAAAAAQAAAAAAAADxAAAAAAAAAAEAAAAAAAAA9QAAAAAAAAABAAAAAAAAAPkAAAAAAAAAAQAAAAAAAAD9AAAAAAAAAAEAAAAAAAABAQAAAAAAAAABAAAAAAACAQEAAAAAAAAAAQAAAAAAAAEFAAAAAAAAAAEAAAAAAAIBBQAAAAAAAAABAAAAAAAAAQkAAAAAAAAAAQAAAAAAAgEJAAAAAAAAAAEAAAAAAAABEQAAAAAAAAAhAAAAAAACAREAAAAAAAAAIQAAAAAAAAEVAAAAAAAAACEAAAAAAAIBFQAAAAAAAAAhAAAAAAAAARkAAAAAAAAAIQAAAAAAAgEZAAAAAAAAACEAAAAAAAABHQAAAAAAAAAhAAAAAAACAR0AAAAAAAAAIQAAAAAAAAEhAAAAAAAAACEAAAAAAAIBIQAAAAAAAAAhAAAAAAAAASUAAAAAAAAAIQAAAAAAAgElAAAAAAAAACEAAAAAAAABKQAAAAAAAAAhAAAAAAACASkAAAAAAAAAIQA==",
          "dtype": "f8",
          "shape": "34, 2"
         },
         "hovertemplate": "Compound=HARD<br>Driver=PIA<br>TyreLife=%{x}<br>LapTimeSeconds=%{y}<br>LapNumber=%{customdata[0]}<br>Stint=%{customdata[1]}<extra></extra>",
         "legendgroup": "HARD, PIA",
         "marker": {
          "color": "#EF553B",
          "symbol": "diamond"
         },
         "mode": "markers",
         "name": "HARD, PIA",
         "orientation": "v",
         "showlegend": true,
         "type": "scatter",
         "x": {
          "bdata": "AAAAAAAAAEAAAAAAAAAIQAAAAAAAABBAAAAAAAAAFEAAAAAAAAAYQAAAAAAAABxAAAAAAAAAIEAAAAAAAAAiQAAAAAAAACRAAAAAAAAAJkAAAAAAAAAoQAAAAAAAACpAAAAAAAAALEAAAAAAAAAuQAAAAAAAADBAAAAAAAAAMUAAAAAAAAAyQAAAAAAAADNAAAAAAAAANEAAAAAAAAA1QAAAAAAAAABAAAAAAAAACEAAAAAAAAAQQAAAAAAAABRAAAAAAAAAGEAAAAAAAAAcQAAAAAAAACBAAAAAAAAAIkAAAAAAAAAkQAAAAAAAACZAAAAAAAAAKEAAAAAAAAAqQAAAAAAAACxAAAAAAAAALkA=",
          "dtype": "f8"
         },
         "xaxis": "x2",
         "y": {
          "bdata": "bxKDwMoBVUBKDAIrhyZVQMl2vp8a/1RAbxKDwMr5VEDFILByaOlUQArXo3A96lRAXI/C9SjUVEAfhetRuM5UQI2XbhKDyFRAEoPAyqHFVECYbhKDwMpUQE5iEFg5xFRAy6FFtvO9VECgGi/dJM5UQB+F61G43lRAtvP91HjJVEB3vp8aL91UQBkEVg4t2lRAObTIdr7vVEBOYhBYOexUQDeJQWDlkFRATmIQWDmEVEB3vp8aL5VUQNnO91PjhVRA1XjpJjGoVEAzMzMzM+tUQO58PzVeolRA1XjpJjGQVEBmZmZmZq5UQBSuR+F6vFRAL90kBoGlVEBCYOXQIptUQOkmMQisfFRAMQisHFp8VEA=",
          "dtype": "f8"
         },
         "yaxis": "y2"
        },
        {
         "hovertemplate": "<b>LOWESS trendline</b><br><br>Compound=HARD<br>Driver=PIA<br>TyreLife=%{x}<br>LapTimeSeconds=%{y} <b>(trend)</b><extra></extra>",
         "legendgroup": "HARD, PIA",
         "marker": {
          "color": "#EF553B",
          "symbol": "diamond"
         },
         "mode": "lines",
         "name": "HARD, PIA",
         "showlegend": false,
         "type": "scatter",
         "x": {
          "bdata": "AAAAAAAAAEAAAAAAAAAAQAAAAAAAAAhAAAAAAAAACEAAAAAAAAAQQAAAAAAAABBAAAAAAAAAFEAAAAAAAAAUQAAAAAAAABhAAAAAAAAAGEAAAAAAAAAcQAAAAAAAABxAAAAAAAAAIEAAAAAAAAAgQAAAAAAAACJAAAAAAAAAIkAAAAAAAAAkQAAAAAAAACRAAAAAAAAAJkAAAAAAAAAmQAAAAAAAAChAAAAAAAAAKEAAAAAAAAAqQAAAAAAAACpAAAAAAAAALEAAAAAAAAAsQAAAAAAAAC5AAAAAAAAALkAAAAAAAAAwQAAAAAAAADFAAAAAAAAAMkAAAAAAAAAzQAAAAAAAADRAAAAAAAAANUA=",
          "dtype": "f8"
         },
         "xaxis": "x2",
         "y": {
          "bdata": "bd1Hh47NVEBt3UeHjs1UQPwItcozzVRA/Ai1yjPNVEBmQUsXi8xUQGZBSxeLzFRA+viM6YbLVED6+IzphstUQNVZ+MA4ylRA1Vn4wDjKVEBVo+JkzMhUQFWj4mTMyFRAgLZ2eBzGVECAtnZ4HMZUQP9V80mkwlRA/1XzSaTCVECGidagib1UQIaJ1qCJvVRABBdAWhi5VEAEF0BaGLlUQCB6Mb1ytlRAIHoxvXK2VEABcCftErdUQAFwJ+0St1RA7iJJJhW8VEDuIkkmFbxUQGTrUa7TwFRAZOtRrtPAVEC6/cVD68dUQDDebFnhzlRAM/HObgLWVEBAhgZAYt1UQFjPinn85FRAQ0AJ6sfsVEA=",
          "dtype": "f8"
         },
         "yaxis": "y2"
        },
        {
         "customdata": {
          "bdata": "AAAAAAAAMEAAAAAAAAAAQAAAAAAAADFAAAAAAAAAAEAAAAAAAAAyQAAAAAAAAABAAAAAAAAAM0AAAAAAAAAAQAAAAAAAADRAAAAAAAAAAEAAAAAAAAA1QAAAAAAAAABAAAAAAAAANkAAAAAAAAAAQAAAAAAAADdAAAAAAAAAAEAAAAAAAAA4QAAAAAAAAABAAAAAAAAAOUAAAAAAAAAAQAAAAAAAADpAAAAAAAAAAEAAAAAAAAA7QAAAAAAAAABAAAAAAAAAPEAAAAAAAAAAQAAAAAAAAD1AAAAAAAAAAEAAAAAAAAA+QAAAAAAAAABAAAAAAAAAP0AAAAAAAAAAQAAAAAAAAEFAAAAAAAAACEAAAAAAAIBBQAAAAAAAAAhAAAAAAAAAQkAAAAAAAAAIQAAAAAAAgEJAAAAAAAAACEAAAAAAAABDQAAAAAAAAAhAAAAAAACAQ0AAAAAAAAAIQAAAAAAAAERAAAAAAAAACEAAAAAAAIBEQAAAAAAAAAhAAAAAAAAARUAAAAAAAAAIQAAAAAAAgEVAAAAAAAAACEAAAAAAAABGQAAAAAAAAAhAAAAAAACARkAAAAAAAAAIQAAAAAAAAEdAAAAAAAAACEAAAAAAAIBHQAAAAAAAAAhAAAAAAAAASEAAAAAAAAAIQAAAAAAAgEhAAAAAAAAACEAAAAAAAABJQAAAAAAAAAhAAAAAAACASUAAAAAAAAAIQAAAAAAAAEpAAAAAAAAACEAAAAAAAIBKQAAAAAAAAAhA",
          "dtype": "f8",
          "shape": "36, 2"
         },
         "hovertemplate": "Compound=HARD<br>Driver=NOR<br>TyreLife=%{x}<br>LapTimeSeconds=%{y}<br>LapNumber=%{customdata[0]}<br>Stint=%{customdata[1]}<extra></extra>",
         "legendgroup": "HARD, NOR",
         "marker": {
          "color": "#EF553B",
          "symbol": "square"
         },
         "mode": "markers",
         "name": "HARD, NOR",
         "orientation": "v",
         "showlegend": true,
         "type": "scatter",
         "x": {
          "bdata": "AAAAAAAAAEAAAAAAAAAIQAAAAAAAABBAAAAAAAAAFEAAAAAAAAAYQAAAAAAAABxAAAAAAAAAIEAAAAAAAAAiQAAAAAAAACRAAAAAAAAAJkAAAAAAAAAoQAAAAAAAACpAAAAAAAAALEAAAAAAAAAuQAAAAAAAADBAAAAAAAAAMUAAAAAAAAAAQAAAAAAAAAhAAAAAAAAAEEAAAAAAAAAUQAAAAAAAABhAAAAAAAAAHEAAAAAAAAAgQAAAAAAAACJAAAAAAAAAJEAAAAAAAAAmQAAAAAAAAChAAAAAAAAAKkAAAAAAAAAsQAAAAAAAAC5AAAAAAAAAMEAAAAAAAAAxQAAAAAAAADJAAAAAAAAAM0AAAAAAAAA0QAAAAAAAADVA",
          "dtype": "f8"
         },
         "xaxis": "x3",
         "y": {
          "bdata": "YOXQItsJVUA9CtejcGVVQHsUrkfh+lRAfT81XroJVUCcxCCwcvhUQNV46SYx8FRAfT81XrrpVEB3vp8aL+VUQFg5tMh25lRABoGVQ4vUVEC8dJMYBN5UQAwCK4cW0VRAPzVeuknEVEAzMzMzM9NUQJ7vp8ZL51RAXI/C9Sg8VUAhsHJokbVUQFTjpZvEyFRAnu+nxkvHVEAIrBxaZMtUQI2XbhKDyFRAlkOLbOfDVEDufD81XgpVQOXQItv5jlRACKwcWmSrVEAAAAAAAJBUQG8Sg8DKmVRAtvP91HiZVEC0yHa+n4JUQEoMAiuH9lRA2/l+arx0VECWQ4ts55tUQBsv3SQG0VRA8KfGSzeRVEAX2c73U5NUQM/3U+OlW1RA",
          "dtype": "f8"
         },
         "yaxis": "y3"
        },
        {
         "hovertemplate": "<b>LOWESS trendline</b><br><br>Compound=HARD<br>Driver=NOR<br>TyreLife=%{x}<br>LapTimeSeconds=%{y} <b>(trend)</b><extra></extra>",
         "legendgroup": "HARD, NOR",
         "marker": {
          "color": "#EF553B",
          "symbol": "square"
         },
         "mode": "lines",
         "name": "HARD, NOR",
         "showlegend": false,
         "type": "scatter",
         "x": {
          "bdata": "AAAAAAAAAEAAAAAAAAAAQAAAAAAAAAhAAAAAAAAACEAAAAAAAAAQQAAAAAAAABBAAAAAAAAAFEAAAAAAAAAUQAAAAAAAABhAAAAAAAAAGEAAAAAAAAAcQAAAAAAAABxAAAAAAAAAIEAAAAAAAAAgQAAAAAAAACJAAAAAAAAAIkAAAAAAAAAkQAAAAAAAACRAAAAAAAAAJkAAAAAAAAAmQAAAAAAAAChAAAAAAAAAKEAAAAAAAAAqQAAAAAAAACpAAAAAAAAALEAAAAAAAAAsQAAAAAAAAC5AAAAAAAAALkAAAAAAAAAwQAAAAAAAADBAAAAAAAAAMUAAAAAAAAAxQAAAAAAAADJAAAAAAAAAM0AAAAAAAAA0QAAAAAAAADVA",
          "dtype": "f8"
         },
         "xaxis": "x3",
         "y": {
          "bdata": "pp7Vw3rqVECmntXDeupUQO+Is+gl6FRA74iz6CXoVEDLr+2Di+VUQMuv7YOL5VRADigT6abiVEAOKBPppuJUQICUS7x531RAgJRLvHnfVEA4oJTY79tUQDiglNjv21RA6MkRov/VVEDoyRGi/9VUQDuaEuGsz1RAO5oS4azPVEBFLkvlQMlUQEUuS+VAyVRAftNV6wXEVEB+01XrBcRUQHZoVDutv1RAdmhUO62/VEB/IoQ2orxUQH8ihDaivFRAUPXiumS7VEBQ9eK6ZLtUQCPqWybKt1RAI+pbJsq3VEBZ9+/plLBUQFn37+mUsFRAc3tNeR6pVEBze015HqlUQKTw+9W9oVRAdN0sx0SaVEDbEbEodZJUQCZBpNIkilRA",
          "dtype": "f8"
         },
         "yaxis": "y3"
        }
       ],
       "layout": {
        "annotations": [
         {
          "font": {},
          "showarrow": false,
          "text": "Driver=LEC",
          "x": 0.15999999999999998,
          "xanchor": "center",
          "xref": "paper",
          "y": 1,
          "yanchor": "bottom",
          "yref": "paper"
         },
         {
          "font": {},
          "showarrow": false,
          "text": "Driver=PIA",
          "x": 0.49999999999999994,
          "xanchor": "center",
          "xref": "paper",
          "y": 1,
          "yanchor": "bottom",
          "yref": "paper"
         },
         {
          "font": {},
          "showarrow": false,
          "text": "Driver=NOR",
          "x": 0.8399999999999999,
          "xanchor": "center",
          "xref": "paper",
          "y": 1,
          "yanchor": "bottom",
          "yref": "paper"
         }
        ],
        "height": 600,
        "legend": {
         "title": {
          "text": "Compound, Driver"
         },
         "tracegroupgap": 0
        },
        "template": {
         "data": {
          "bar": [
           {
            "error_x": {
             "color": "#2a3f5f"
            },
            "error_y": {
             "color": "#2a3f5f"
            },
            "marker": {
             "line": {
              "color": "#E5ECF6",
              "width": 0.5
             },
             "pattern": {
              "fillmode": "overlay",
              "size": 10,
              "solidity": 0.2
             }
            },
            "type": "bar"
           }
          ],
          "barpolar": [
           {
            "marker": {
             "line": {
              "color": "#E5ECF6",
              "width": 0.5
             },
             "pattern": {
              "fillmode": "overlay",
              "size": 10,
              "solidity": 0.2
             }
            },
            "type": "barpolar"
           }
          ],
          "carpet": [
           {
            "aaxis": {
             "endlinecolor": "#2a3f5f",
             "gridcolor": "white",
             "linecolor": "white",
             "minorgridcolor": "white",
             "startlinecolor": "#2a3f5f"
            },
            "baxis": {
             "endlinecolor": "#2a3f5f",
             "gridcolor": "white",
             "linecolor": "white",
             "minorgridcolor": "white",
             "startlinecolor": "#2a3f5f"
            },
            "type": "carpet"
           }
          ],
          "choropleth": [
           {
            "colorbar": {
             "outlinewidth": 0,
             "ticks": ""
            },
            "type": "choropleth"
           }
          ],
          "contour": [
           {
            "colorbar": {
             "outlinewidth": 0,
             "ticks": ""
            },
            "colorscale": [
             [
              0,
              "#0d0887"
             ],
             [
              0.1111111111111111,
              "#46039f"
             ],
             [
              0.2222222222222222,
              "#7201a8"
             ],
             [
              0.3333333333333333,
              "#9c179e"
             ],
             [
              0.4444444444444444,
              "#bd3786"
             ],
             [
              0.5555555555555556,
              "#d8576b"
             ],
             [
              0.6666666666666666,
              "#ed7953"
             ],
             [
              0.7777777777777778,
              "#fb9f3a"
             ],
             [
              0.8888888888888888,
              "#fdca26"
             ],
             [
              1,
              "#f0f921"
             ]
            ],
            "type": "contour"
           }
          ],
          "contourcarpet": [
           {
            "colorbar": {
             "outlinewidth": 0,
             "ticks": ""
            },
            "type": "contourcarpet"
           }
          ],
          "heatmap": [
           {
            "colorbar": {
             "outlinewidth": 0,
             "ticks": ""
            },
            "colorscale": [
             [
              0,
              "#0d0887"
             ],
             [
              0.1111111111111111,
              "#46039f"
             ],
             [
              0.2222222222222222,
              "#7201a8"
             ],
             [
              0.3333333333333333,
              "#9c179e"
             ],
             [
              0.4444444444444444,
              "#bd3786"
             ],
             [
              0.5555555555555556,
              "#d8576b"
             ],
             [
              0.6666666666666666,
              "#ed7953"
             ],
             [
              0.7777777777777778,
              "#fb9f3a"
             ],
             [
              0.8888888888888888,
              "#fdca26"
             ],
             [
              1,
              "#f0f921"
             ]
            ],
            "type": "heatmap"
           }
          ],
          "histogram": [
           {
            "marker": {
             "pattern": {
              "fillmode": "overlay",
              "size": 10,
              "solidity": 0.2
             }
            },
            "type": "histogram"
           }
          ],
          "histogram2d": [
           {
            "colorbar": {
             "outlinewidth": 0,
             "ticks": ""
            },
            "colorscale": [
             [
              0,
              "#0d0887"
             ],
             [
              0.1111111111111111,
              "#46039f"
             ],
             [
              0.2222222222222222,
              "#7201a8"
             ],
             [
              0.3333333333333333,
              "#9c179e"
             ],
             [
              0.4444444444444444,
              "#bd3786"
             ],
             [
              0.5555555555555556,
              "#d8576b"
             ],
             [
              0.6666666666666666,
              "#ed7953"
             ],
             [
              0.7777777777777778,
              "#fb9f3a"
             ],
             [
              0.8888888888888888,
              "#fdca26"
             ],
             [
              1,
              "#f0f921"
             ]
            ],
            "type": "histogram2d"
           }
          ],
          "histogram2dcontour": [
           {
            "colorbar": {
             "outlinewidth": 0,
             "ticks": ""
            },
            "colorscale": [
             [
              0,
              "#0d0887"
             ],
             [
              0.1111111111111111,
              "#46039f"
             ],
             [
              0.2222222222222222,
              "#7201a8"
             ],
             [
              0.3333333333333333,
              "#9c179e"
             ],
             [
              0.4444444444444444,
              "#bd3786"
             ],
             [
              0.5555555555555556,
              "#d8576b"
             ],
             [
              0.6666666666666666,
              "#ed7953"
             ],
             [
              0.7777777777777778,
              "#fb9f3a"
             ],
             [
              0.8888888888888888,
              "#fdca26"
             ],
             [
              1,
              "#f0f921"
             ]
            ],
            "type": "histogram2dcontour"
           }
          ],
          "mesh3d": [
           {
            "colorbar": {
             "outlinewidth": 0,
             "ticks": ""
            },
            "type": "mesh3d"
           }
          ],
          "parcoords": [
           {
            "line": {
             "colorbar": {
              "outlinewidth": 0,
              "ticks": ""
             }
            },
            "type": "parcoords"
           }
          ],
          "pie": [
           {
            "automargin": true,
            "type": "pie"
           }
          ],
          "scatter": [
           {
            "fillpattern": {
             "fillmode": "overlay",
             "size": 10,
             "solidity": 0.2
            },
            "type": "scatter"
           }
          ],
          "scatter3d": [
           {
            "line": {
             "colorbar": {
              "outlinewidth": 0,
              "ticks": ""
             }
            },
            "marker": {
             "colorbar": {
              "outlinewidth": 0,
              "ticks": ""
             }
            },
            "type": "scatter3d"
           }
          ],
          "scattercarpet": [
           {
            "marker": {
             "colorbar": {
              "outlinewidth": 0,
              "ticks": ""
             }
            },
            "type": "scattercarpet"
           }
          ],
          "scattergeo": [
           {
            "marker": {
             "colorbar": {
              "outlinewidth": 0,
              "ticks": ""
             }
            },
            "type": "scattergeo"
           }
          ],
          "scattergl": [
           {
            "marker": {
             "colorbar": {
              "outlinewidth": 0,
              "ticks": ""
             }
            },
            "type": "scattergl"
           }
          ],
          "scattermap": [
           {
            "marker": {
             "colorbar": {
              "outlinewidth": 0,
              "ticks": ""
             }
            },
            "type": "scattermap"
           }
          ],
          "scattermapbox": [
           {
            "marker": {
             "colorbar": {
              "outlinewidth": 0,
              "ticks": ""
             }
            },
            "type": "scattermapbox"
           }
          ],
          "scatterpolar": [
           {
            "marker": {
             "colorbar": {
              "outlinewidth": 0,
              "ticks": ""
             }
            },
            "type": "scatterpolar"
           }
          ],
          "scatterpolargl": [
           {
            "marker": {
             "colorbar": {
              "outlinewidth": 0,
              "ticks": ""
             }
            },
            "type": "scatterpolargl"
           }
          ],
          "scatterternary": [
           {
            "marker": {
             "colorbar": {
              "outlinewidth": 0,
              "ticks": ""
             }
            },
            "type": "scatterternary"
           }
          ],
          "surface": [
           {
            "colorbar": {
             "outlinewidth": 0,
             "ticks": ""
            },
            "colorscale": [
             [
              0,
              "#0d0887"
             ],
             [
              0.1111111111111111,
              "#46039f"
             ],
             [
              0.2222222222222222,
              "#7201a8"
             ],
             [
              0.3333333333333333,
              "#9c179e"
             ],
             [
              0.4444444444444444,
              "#bd3786"
             ],
             [
              0.5555555555555556,
              "#d8576b"
             ],
             [
              0.6666666666666666,
              "#ed7953"
             ],
             [
              0.7777777777777778,
              "#fb9f3a"
             ],
             [
              0.8888888888888888,
              "#fdca26"
             ],
             [
              1,
              "#f0f921"
             ]
            ],
            "type": "surface"
           }
          ],
          "table": [
           {
            "cells": {
             "fill": {
              "color": "#EBF0F8"
             },
             "line": {
              "color": "white"
             }
            },
            "header": {
             "fill": {
              "color": "#C8D4E3"
             },
             "line": {
              "color": "white"
             }
            },
            "type": "table"
           }
          ]
         },
         "layout": {
          "annotationdefaults": {
           "arrowcolor": "#2a3f5f",
           "arrowhead": 0,
           "arrowwidth": 1
          },
          "autotypenumbers": "strict",
          "coloraxis": {
           "colorbar": {
            "outlinewidth": 0,
            "ticks": ""
           }
          },
          "colorscale": {
           "diverging": [
            [
             0,
             "#8e0152"
            ],
            [
             0.1,
             "#c51b7d"
            ],
            [
             0.2,
             "#de77ae"
            ],
            [
             0.3,
             "#f1b6da"
            ],
            [
             0.4,
             "#fde0ef"
            ],
            [
             0.5,
             "#f7f7f7"
            ],
            [
             0.6,
             "#e6f5d0"
            ],
            [
             0.7,
             "#b8e186"
            ],
            [
             0.8,
             "#7fbc41"
            ],
            [
             0.9,
             "#4d9221"
            ],
            [
             1,
             "#276419"
            ]
           ],
           "sequential": [
            [
             0,
             "#0d0887"
            ],
            [
             0.1111111111111111,
             "#46039f"
            ],
            [
             0.2222222222222222,
             "#7201a8"
            ],
            [
             0.3333333333333333,
             "#9c179e"
            ],
            [
             0.4444444444444444,
             "#bd3786"
            ],
            [
             0.5555555555555556,
             "#d8576b"
            ],
            [
             0.6666666666666666,
             "#ed7953"
            ],
            [
             0.7777777777777778,
             "#fb9f3a"
            ],
            [
             0.8888888888888888,
             "#fdca26"
            ],
            [
             1,
             "#f0f921"
            ]
           ],
           "sequentialminus": [
            [
             0,
             "#0d0887"
            ],
            [
             0.1111111111111111,
             "#46039f"
            ],
            [
             0.2222222222222222,
             "#7201a8"
            ],
            [
             0.3333333333333333,
             "#9c179e"
            ],
            [
             0.4444444444444444,
             "#bd3786"
            ],
            [
             0.5555555555555556,
             "#d8576b"
            ],
            [
             0.6666666666666666,
             "#ed7953"
            ],
            [
             0.7777777777777778,
             "#fb9f3a"
            ],
            [
             0.8888888888888888,
             "#fdca26"
            ],
            [
             1,
             "#f0f921"
            ]
           ]
          },
          "colorway": [
           "#636efa",
           "#EF553B",
           "#00cc96",
           "#ab63fa",
           "#FFA15A",
           "#19d3f3",
           "#FF6692",
           "#B6E880",
           "#FF97FF",
           "#FECB52"
          ],
          "font": {
           "color": "#2a3f5f"
          },
          "geo": {
           "bgcolor": "white",
           "lakecolor": "white",
           "landcolor": "#E5ECF6",
           "showlakes": true,
           "showland": true,
           "subunitcolor": "white"
          },
          "hoverlabel": {
           "align": "left"
          },
          "hovermode": "closest",
          "mapbox": {
           "style": "light"
          },
          "paper_bgcolor": "white",
          "plot_bgcolor": "#E5ECF6",
          "polar": {
           "angularaxis": {
            "gridcolor": "white",
            "linecolor": "white",
            "ticks": ""
           },
           "bgcolor": "#E5ECF6",
           "radialaxis": {
            "gridcolor": "white",
            "linecolor": "white",
            "ticks": ""
           }
          },
          "scene": {
           "xaxis": {
            "backgroundcolor": "#E5ECF6",
            "gridcolor": "white",
            "gridwidth": 2,
            "linecolor": "white",
            "showbackground": true,
            "ticks": "",
            "zerolinecolor": "white"
           },
           "yaxis": {
            "backgroundcolor": "#E5ECF6",
            "gridcolor": "white",
            "gridwidth": 2,
            "linecolor": "white",
            "showbackground": true,
            "ticks": "",
            "zerolinecolor": "white"
           },
           "zaxis": {
            "backgroundcolor": "#E5ECF6",
            "gridcolor": "white",
            "gridwidth": 2,
            "linecolor": "white",
            "showbackground": true,
            "ticks": "",
            "zerolinecolor": "white"
           }
          },
          "shapedefaults": {
           "line": {
            "color": "#2a3f5f"
           }
          },
          "ternary": {
           "aaxis": {
            "gridcolor": "white",
            "linecolor": "white",
            "ticks": ""
           },
           "baxis": {
            "gridcolor": "white",
            "linecolor": "white",
            "ticks": ""
           },
           "bgcolor": "#E5ECF6",
           "caxis": {
            "gridcolor": "white",
            "linecolor": "white",
            "ticks": ""
           }
          },
          "title": {
           "x": 0.05
          },
          "xaxis": {
           "automargin": true,
           "gridcolor": "white",
           "linecolor": "white",
           "ticks": "",
           "title": {
            "standoff": 15
           },
           "zerolinecolor": "white",
           "zerolinewidth": 2
          },
          "yaxis": {
           "automargin": true,
           "gridcolor": "white",
           "linecolor": "white",
           "ticks": "",
           "title": {
            "standoff": 15
           },
           "zerolinecolor": "white",
           "zerolinewidth": 2
          }
         }
        },
        "title": {
         "text": "Tyre Degradation Comparison (Top 3 Drivers - Austria 2025)"
        },
        "xaxis": {
         "anchor": "y",
         "domain": [
          0,
          0.31999999999999995
         ],
         "title": {
          "text": "Tyre Life (Laps)"
         }
        },
        "xaxis2": {
         "anchor": "y2",
         "domain": [
          0.33999999999999997,
          0.6599999999999999
         ],
         "matches": "x",
         "title": {
          "text": "TyreLife"
         }
        },
        "xaxis3": {
         "anchor": "y3",
         "domain": [
          0.6799999999999999,
          0.9999999999999999
         ],
         "matches": "x",
         "title": {
          "text": "TyreLife"
         }
        },
        "yaxis": {
         "anchor": "x",
         "domain": [
          0,
          1
         ],
         "title": {
          "text": "Lap Time (s)"
         }
        },
        "yaxis2": {
         "anchor": "x2",
         "domain": [
          0,
          1
         ],
         "matches": "y",
         "showticklabels": false
        },
        "yaxis3": {
         "anchor": "x3",
         "domain": [
          0,
          1
         ],
         "matches": "y",
         "showticklabels": false
        }
       }
      },
      "image/png": "[encoded data removed]"
     },
     "metadata": {},
     "output_type": "display_data"
    }
   ],
   "source": [
    "fig = px.scatter (all_laps,\n",
    "    x='TyreLife',\n",
    "    y='LapTimeSeconds',\n",
    "    color='Compound',\n",
    "    symbol='Driver', \n",
    "    facet_col='Driver', \n",
    "    trendline='lowess',\n",
    "    hover_data=['LapNumber', 'Stint'],\n",
    "    title='Tyre Degradation Comparison (Top 3 Drivers - Austria 2025)')\n",
    "\n",
    "fig.update_layout(\n",
    "    xaxis_title='Tyre Life (Laps)',\n",
    "    yaxis_title='Lap Time (s)',\n",
    "    height=600\n",
    ")\n",
    "\n",
    "fig.show()"
   ]
  },
  {
   "cell_type": "code",
   "execution_count": 5,
   "id": "c9fd8935-e81f-4217-b96f-fe9c366ea10e",
   "metadata": {},
   "outputs": [
    {
     "name": "stdout",
     "output_type": "stream",
     "text": [
      "['MEDIUM' 'HARD']\n"
     ]
    }
   ],
   "source": [
    "print(driver_laps['Compound'].unique())"
   ]
  },
  {
   "cell_type": "code",
   "execution_count": 6,
   "id": "e46d3f5f-dd4c-4c78-ba33-32f0f49a3209",
   "metadata": {},
   "outputs": [
    {
     "data": {
      "text/html": [
       "<style>#sk-container-id-1 {\n",
       "  /* Definition of color scheme common for light and dark mode */\n",
       "  --sklearn-color-text: #000;\n",
       "  --sklearn-color-text-muted: #666;\n",
       "  --sklearn-color-line: gray;\n",
       "  /* Definition of color scheme for unfitted estimators */\n",
       "  --sklearn-color-unfitted-level-0: #fff5e6;\n",
       "  --sklearn-color-unfitted-level-1: #f6e4d2;\n",
       "  --sklearn-color-unfitted-level-2: #ffe0b3;\n",
       "  --sklearn-color-unfitted-level-3: chocolate;\n",
       "  /* Definition of color scheme for fitted estimators */\n",
       "  --sklearn-color-fitted-level-0: #f0f8ff;\n",
       "  --sklearn-color-fitted-level-1: #d4ebff;\n",
       "  --sklearn-color-fitted-level-2: #b3dbfd;\n",
       "  --sklearn-color-fitted-level-3: cornflowerblue;\n",
       "\n",
       "  /* Specific color for light theme */\n",
       "  --sklearn-color-text-on-default-background: var(--sg-text-color, var(--theme-code-foreground, var(--jp-content-font-color1, black)));\n",
       "  --sklearn-color-background: var(--sg-background-color, var(--theme-background, var(--jp-layout-color0, white)));\n",
       "  --sklearn-color-border-box: var(--sg-text-color, var(--theme-code-foreground, var(--jp-content-font-color1, black)));\n",
       "  --sklearn-color-icon: #696969;\n",
       "\n",
       "  @media (prefers-color-scheme: dark) {\n",
       "    /* Redefinition of color scheme for dark theme */\n",
       "    --sklearn-color-text-on-default-background: var(--sg-text-color, var(--theme-code-foreground, var(--jp-content-font-color1, white)));\n",
       "    --sklearn-color-background: var(--sg-background-color, var(--theme-background, var(--jp-layout-color0, #111)));\n",
       "    --sklearn-color-border-box: var(--sg-text-color, var(--theme-code-foreground, var(--jp-content-font-color1, white)));\n",
       "    --sklearn-color-icon: #878787;\n",
       "  }\n",
       "}\n",
       "\n",
       "#sk-container-id-1 {\n",
       "  color: var(--sklearn-color-text);\n",
       "}\n",
       "\n",
       "#sk-container-id-1 pre {\n",
       "  padding: 0;\n",
       "}\n",
       "\n",
       "#sk-container-id-1 input.sk-hidden--visually {\n",
       "  border: 0;\n",
       "  clip: rect(1px 1px 1px 1px);\n",
       "  clip: rect(1px, 1px, 1px, 1px);\n",
       "  height: 1px;\n",
       "  margin: -1px;\n",
       "  overflow: hidden;\n",
       "  padding: 0;\n",
       "  position: absolute;\n",
       "  width: 1px;\n",
       "}\n",
       "\n",
       "#sk-container-id-1 div.sk-dashed-wrapped {\n",
       "  border: 1px dashed var(--sklearn-color-line);\n",
       "  margin: 0 0.4em 0.5em 0.4em;\n",
       "  box-sizing: border-box;\n",
       "  padding-bottom: 0.4em;\n",
       "  background-color: var(--sklearn-color-background);\n",
       "}\n",
       "\n",
       "#sk-container-id-1 div.sk-container {\n",
       "  /* jupyter's `normalize.less` sets `[hidden] { display: none; }`\n",
       "     but bootstrap.min.css set `[hidden] { display: none !important; }`\n",
       "     so we also need the `!important` here to be able to override the\n",
       "     default hidden behavior on the sphinx rendered scikit-learn.org.\n",
       "     See: https://github.com/scikit-learn/scikit-learn/issues/21755 */\n",
       "  display: inline-block !important;\n",
       "  position: relative;\n",
       "}\n",
       "\n",
       "#sk-container-id-1 div.sk-text-repr-fallback {\n",
       "  display: none;\n",
       "}\n",
       "\n",
       "div.sk-parallel-item,\n",
       "div.sk-serial,\n",
       "div.sk-item {\n",
       "  /* draw centered vertical line to link estimators */\n",
       "  background-image: linear-gradient(var(--sklearn-color-text-on-default-background), var(--sklearn-color-text-on-default-background));\n",
       "  background-size: 2px 100%;\n",
       "  background-repeat: no-repeat;\n",
       "  background-position: center center;\n",
       "}\n",
       "\n",
       "/* Parallel-specific style estimator block */\n",
       "\n",
       "#sk-container-id-1 div.sk-parallel-item::after {\n",
       "  content: \"\";\n",
       "  width: 100%;\n",
       "  border-bottom: 2px solid var(--sklearn-color-text-on-default-background);\n",
       "  flex-grow: 1;\n",
       "}\n",
       "\n",
       "#sk-container-id-1 div.sk-parallel {\n",
       "  display: flex;\n",
       "  align-items: stretch;\n",
       "  justify-content: center;\n",
       "  background-color: var(--sklearn-color-background);\n",
       "  position: relative;\n",
       "}\n",
       "\n",
       "#sk-container-id-1 div.sk-parallel-item {\n",
       "  display: flex;\n",
       "  flex-direction: column;\n",
       "}\n",
       "\n",
       "#sk-container-id-1 div.sk-parallel-item:first-child::after {\n",
       "  align-self: flex-end;\n",
       "  width: 50%;\n",
       "}\n",
       "\n",
       "#sk-container-id-1 div.sk-parallel-item:last-child::after {\n",
       "  align-self: flex-start;\n",
       "  width: 50%;\n",
       "}\n",
       "\n",
       "#sk-container-id-1 div.sk-parallel-item:only-child::after {\n",
       "  width: 0;\n",
       "}\n",
       "\n",
       "/* Serial-specific style estimator block */\n",
       "\n",
       "#sk-container-id-1 div.sk-serial {\n",
       "  display: flex;\n",
       "  flex-direction: column;\n",
       "  align-items: center;\n",
       "  background-color: var(--sklearn-color-background);\n",
       "  padding-right: 1em;\n",
       "  padding-left: 1em;\n",
       "}\n",
       "\n",
       "\n",
       "/* Toggleable style: style used for estimator/Pipeline/ColumnTransformer box that is\n",
       "clickable and can be expanded/collapsed.\n",
       "- Pipeline and ColumnTransformer use this feature and define the default style\n",
       "- Estimators will overwrite some part of the style using the `sk-estimator` class\n",
       "*/\n",
       "\n",
       "/* Pipeline and ColumnTransformer style (default) */\n",
       "\n",
       "#sk-container-id-1 div.sk-toggleable {\n",
       "  /* Default theme specific background. It is overwritten whether we have a\n",
       "  specific estimator or a Pipeline/ColumnTransformer */\n",
       "  background-color: var(--sklearn-color-background);\n",
       "}\n",
       "\n",
       "/* Toggleable label */\n",
       "#sk-container-id-1 label.sk-toggleable__label {\n",
       "  cursor: pointer;\n",
       "  display: flex;\n",
       "  width: 100%;\n",
       "  margin-bottom: 0;\n",
       "  padding: 0.5em;\n",
       "  box-sizing: border-box;\n",
       "  text-align: center;\n",
       "  align-items: start;\n",
       "  justify-content: space-between;\n",
       "  gap: 0.5em;\n",
       "}\n",
       "\n",
       "#sk-container-id-1 label.sk-toggleable__label .caption {\n",
       "  font-size: 0.6rem;\n",
       "  font-weight: lighter;\n",
       "  color: var(--sklearn-color-text-muted);\n",
       "}\n",
       "\n",
       "#sk-container-id-1 label.sk-toggleable__label-arrow:before {\n",
       "  /* Arrow on the left of the label */\n",
       "  content: \"▸\";\n",
       "  float: left;\n",
       "  margin-right: 0.25em;\n",
       "  color: var(--sklearn-color-icon);\n",
       "}\n",
       "\n",
       "#sk-container-id-1 label.sk-toggleable__label-arrow:hover:before {\n",
       "  color: var(--sklearn-color-text);\n",
       "}\n",
       "\n",
       "/* Toggleable content - dropdown */\n",
       "\n",
       "#sk-container-id-1 div.sk-toggleable__content {\n",
       "  max-height: 0;\n",
       "  max-width: 0;\n",
       "  overflow: hidden;\n",
       "  text-align: left;\n",
       "  /* unfitted */\n",
       "  background-color: var(--sklearn-color-unfitted-level-0);\n",
       "}\n",
       "\n",
       "#sk-container-id-1 div.sk-toggleable__content.fitted {\n",
       "  /* fitted */\n",
       "  background-color: var(--sklearn-color-fitted-level-0);\n",
       "}\n",
       "\n",
       "#sk-container-id-1 div.sk-toggleable__content pre {\n",
       "  margin: 0.2em;\n",
       "  border-radius: 0.25em;\n",
       "  color: var(--sklearn-color-text);\n",
       "  /* unfitted */\n",
       "  background-color: var(--sklearn-color-unfitted-level-0);\n",
       "}\n",
       "\n",
       "#sk-container-id-1 div.sk-toggleable__content.fitted pre {\n",
       "  /* unfitted */\n",
       "  background-color: var(--sklearn-color-fitted-level-0);\n",
       "}\n",
       "\n",
       "#sk-container-id-1 input.sk-toggleable__control:checked~div.sk-toggleable__content {\n",
       "  /* Expand drop-down */\n",
       "  max-height: 200px;\n",
       "  max-width: 100%;\n",
       "  overflow: auto;\n",
       "}\n",
       "\n",
       "#sk-container-id-1 input.sk-toggleable__control:checked~label.sk-toggleable__label-arrow:before {\n",
       "  content: \"▾\";\n",
       "}\n",
       "\n",
       "/* Pipeline/ColumnTransformer-specific style */\n",
       "\n",
       "#sk-container-id-1 div.sk-label input.sk-toggleable__control:checked~label.sk-toggleable__label {\n",
       "  color: var(--sklearn-color-text);\n",
       "  background-color: var(--sklearn-color-unfitted-level-2);\n",
       "}\n",
       "\n",
       "#sk-container-id-1 div.sk-label.fitted input.sk-toggleable__control:checked~label.sk-toggleable__label {\n",
       "  background-color: var(--sklearn-color-fitted-level-2);\n",
       "}\n",
       "\n",
       "/* Estimator-specific style */\n",
       "\n",
       "/* Colorize estimator box */\n",
       "#sk-container-id-1 div.sk-estimator input.sk-toggleable__control:checked~label.sk-toggleable__label {\n",
       "  /* unfitted */\n",
       "  background-color: var(--sklearn-color-unfitted-level-2);\n",
       "}\n",
       "\n",
       "#sk-container-id-1 div.sk-estimator.fitted input.sk-toggleable__control:checked~label.sk-toggleable__label {\n",
       "  /* fitted */\n",
       "  background-color: var(--sklearn-color-fitted-level-2);\n",
       "}\n",
       "\n",
       "#sk-container-id-1 div.sk-label label.sk-toggleable__label,\n",
       "#sk-container-id-1 div.sk-label label {\n",
       "  /* The background is the default theme color */\n",
       "  color: var(--sklearn-color-text-on-default-background);\n",
       "}\n",
       "\n",
       "/* On hover, darken the color of the background */\n",
       "#sk-container-id-1 div.sk-label:hover label.sk-toggleable__label {\n",
       "  color: var(--sklearn-color-text);\n",
       "  background-color: var(--sklearn-color-unfitted-level-2);\n",
       "}\n",
       "\n",
       "/* Label box, darken color on hover, fitted */\n",
       "#sk-container-id-1 div.sk-label.fitted:hover label.sk-toggleable__label.fitted {\n",
       "  color: var(--sklearn-color-text);\n",
       "  background-color: var(--sklearn-color-fitted-level-2);\n",
       "}\n",
       "\n",
       "/* Estimator label */\n",
       "\n",
       "#sk-container-id-1 div.sk-label label {\n",
       "  font-family: monospace;\n",
       "  font-weight: bold;\n",
       "  display: inline-block;\n",
       "  line-height: 1.2em;\n",
       "}\n",
       "\n",
       "#sk-container-id-1 div.sk-label-container {\n",
       "  text-align: center;\n",
       "}\n",
       "\n",
       "/* Estimator-specific */\n",
       "#sk-container-id-1 div.sk-estimator {\n",
       "  font-family: monospace;\n",
       "  border: 1px dotted var(--sklearn-color-border-box);\n",
       "  border-radius: 0.25em;\n",
       "  box-sizing: border-box;\n",
       "  margin-bottom: 0.5em;\n",
       "  /* unfitted */\n",
       "  background-color: var(--sklearn-color-unfitted-level-0);\n",
       "}\n",
       "\n",
       "#sk-container-id-1 div.sk-estimator.fitted {\n",
       "  /* fitted */\n",
       "  background-color: var(--sklearn-color-fitted-level-0);\n",
       "}\n",
       "\n",
       "/* on hover */\n",
       "#sk-container-id-1 div.sk-estimator:hover {\n",
       "  /* unfitted */\n",
       "  background-color: var(--sklearn-color-unfitted-level-2);\n",
       "}\n",
       "\n",
       "#sk-container-id-1 div.sk-estimator.fitted:hover {\n",
       "  /* fitted */\n",
       "  background-color: var(--sklearn-color-fitted-level-2);\n",
       "}\n",
       "\n",
       "/* Specification for estimator info (e.g. \"i\" and \"?\") */\n",
       "\n",
       "/* Common style for \"i\" and \"?\" */\n",
       "\n",
       ".sk-estimator-doc-link,\n",
       "a:link.sk-estimator-doc-link,\n",
       "a:visited.sk-estimator-doc-link {\n",
       "  float: right;\n",
       "  font-size: smaller;\n",
       "  line-height: 1em;\n",
       "  font-family: monospace;\n",
       "  background-color: var(--sklearn-color-background);\n",
       "  border-radius: 1em;\n",
       "  height: 1em;\n",
       "  width: 1em;\n",
       "  text-decoration: none !important;\n",
       "  margin-left: 0.5em;\n",
       "  text-align: center;\n",
       "  /* unfitted */\n",
       "  border: var(--sklearn-color-unfitted-level-1) 1pt solid;\n",
       "  color: var(--sklearn-color-unfitted-level-1);\n",
       "}\n",
       "\n",
       ".sk-estimator-doc-link.fitted,\n",
       "a:link.sk-estimator-doc-link.fitted,\n",
       "a:visited.sk-estimator-doc-link.fitted {\n",
       "  /* fitted */\n",
       "  border: var(--sklearn-color-fitted-level-1) 1pt solid;\n",
       "  color: var(--sklearn-color-fitted-level-1);\n",
       "}\n",
       "\n",
       "/* On hover */\n",
       "div.sk-estimator:hover .sk-estimator-doc-link:hover,\n",
       ".sk-estimator-doc-link:hover,\n",
       "div.sk-label-container:hover .sk-estimator-doc-link:hover,\n",
       ".sk-estimator-doc-link:hover {\n",
       "  /* unfitted */\n",
       "  background-color: var(--sklearn-color-unfitted-level-3);\n",
       "  color: var(--sklearn-color-background);\n",
       "  text-decoration: none;\n",
       "}\n",
       "\n",
       "div.sk-estimator.fitted:hover .sk-estimator-doc-link.fitted:hover,\n",
       ".sk-estimator-doc-link.fitted:hover,\n",
       "div.sk-label-container:hover .sk-estimator-doc-link.fitted:hover,\n",
       ".sk-estimator-doc-link.fitted:hover {\n",
       "  /* fitted */\n",
       "  background-color: var(--sklearn-color-fitted-level-3);\n",
       "  color: var(--sklearn-color-background);\n",
       "  text-decoration: none;\n",
       "}\n",
       "\n",
       "/* Span, style for the box shown on hovering the info icon */\n",
       ".sk-estimator-doc-link span {\n",
       "  display: none;\n",
       "  z-index: 9999;\n",
       "  position: relative;\n",
       "  font-weight: normal;\n",
       "  right: .2ex;\n",
       "  padding: .5ex;\n",
       "  margin: .5ex;\n",
       "  width: min-content;\n",
       "  min-width: 20ex;\n",
       "  max-width: 50ex;\n",
       "  color: var(--sklearn-color-text);\n",
       "  box-shadow: 2pt 2pt 4pt #999;\n",
       "  /* unfitted */\n",
       "  background: var(--sklearn-color-unfitted-level-0);\n",
       "  border: .5pt solid var(--sklearn-color-unfitted-level-3);\n",
       "}\n",
       "\n",
       ".sk-estimator-doc-link.fitted span {\n",
       "  /* fitted */\n",
       "  background: var(--sklearn-color-fitted-level-0);\n",
       "  border: var(--sklearn-color-fitted-level-3);\n",
       "}\n",
       "\n",
       ".sk-estimator-doc-link:hover span {\n",
       "  display: block;\n",
       "}\n",
       "\n",
       "/* \"?\"-specific style due to the `<a>` HTML tag */\n",
       "\n",
       "#sk-container-id-1 a.estimator_doc_link {\n",
       "  float: right;\n",
       "  font-size: 1rem;\n",
       "  line-height: 1em;\n",
       "  font-family: monospace;\n",
       "  background-color: var(--sklearn-color-background);\n",
       "  border-radius: 1rem;\n",
       "  height: 1rem;\n",
       "  width: 1rem;\n",
       "  text-decoration: none;\n",
       "  /* unfitted */\n",
       "  color: var(--sklearn-color-unfitted-level-1);\n",
       "  border: var(--sklearn-color-unfitted-level-1) 1pt solid;\n",
       "}\n",
       "\n",
       "#sk-container-id-1 a.estimator_doc_link.fitted {\n",
       "  /* fitted */\n",
       "  border: var(--sklearn-color-fitted-level-1) 1pt solid;\n",
       "  color: var(--sklearn-color-fitted-level-1);\n",
       "}\n",
       "\n",
       "/* On hover */\n",
       "#sk-container-id-1 a.estimator_doc_link:hover {\n",
       "  /* unfitted */\n",
       "  background-color: var(--sklearn-color-unfitted-level-3);\n",
       "  color: var(--sklearn-color-background);\n",
       "  text-decoration: none;\n",
       "}\n",
       "\n",
       "#sk-container-id-1 a.estimator_doc_link.fitted:hover {\n",
       "  /* fitted */\n",
       "  background-color: var(--sklearn-color-fitted-level-3);\n",
       "}\n",
       "</style><div id=\"sk-container-id-1\" class=\"sk-top-container\"><div class=\"sk-text-repr-fallback\"><pre>Pipeline(steps=[(&#x27;preprocessor&#x27;,\n",
       "                 ColumnTransformer(force_int_remainder_cols=False,\n",
       "                                   remainder=&#x27;passthrough&#x27;,\n",
       "                                   transformers=[(&#x27;comp&#x27;, OneHotEncoder(),\n",
       "                                                  [&#x27;Compound&#x27;])])),\n",
       "                (&#x27;regressor&#x27;,\n",
       "                 RandomForestRegressor(max_depth=8, random_state=42))])</pre><b>In a Jupyter environment, please rerun this cell to show the HTML representation or trust the notebook. <br />On GitHub, the HTML representation is unable to render, please try loading this page with nbviewer.org.</b></div><div class=\"sk-container\" hidden><div class=\"sk-item sk-dashed-wrapped\"><div class=\"sk-label-container\"><div class=\"sk-label fitted sk-toggleable\"><input class=\"sk-toggleable__control sk-hidden--visually\" id=\"sk-estimator-id-1\" type=\"checkbox\" ><label for=\"sk-estimator-id-1\" class=\"sk-toggleable__label fitted sk-toggleable__label-arrow\"><div><div>Pipeline</div></div><div><a class=\"sk-estimator-doc-link fitted\" rel=\"noreferrer\" target=\"_blank\" href=\"https://scikit-learn.org/1.6/modules/generated/sklearn.pipeline.Pipeline.html\">?<span>Documentation for Pipeline</span></a><span class=\"sk-estimator-doc-link fitted\">i<span>Fitted</span></span></div></label><div class=\"sk-toggleable__content fitted\"><pre>Pipeline(steps=[(&#x27;preprocessor&#x27;,\n",
       "                 ColumnTransformer(force_int_remainder_cols=False,\n",
       "                                   remainder=&#x27;passthrough&#x27;,\n",
       "                                   transformers=[(&#x27;comp&#x27;, OneHotEncoder(),\n",
       "                                                  [&#x27;Compound&#x27;])])),\n",
       "                (&#x27;regressor&#x27;,\n",
       "                 RandomForestRegressor(max_depth=8, random_state=42))])</pre></div> </div></div><div class=\"sk-serial\"><div class=\"sk-item sk-dashed-wrapped\"><div class=\"sk-label-container\"><div class=\"sk-label fitted sk-toggleable\"><input class=\"sk-toggleable__control sk-hidden--visually\" id=\"sk-estimator-id-2\" type=\"checkbox\" ><label for=\"sk-estimator-id-2\" class=\"sk-toggleable__label fitted sk-toggleable__label-arrow\"><div><div>preprocessor: ColumnTransformer</div></div><div><a class=\"sk-estimator-doc-link fitted\" rel=\"noreferrer\" target=\"_blank\" href=\"https://scikit-learn.org/1.6/modules/generated/sklearn.compose.ColumnTransformer.html\">?<span>Documentation for preprocessor: ColumnTransformer</span></a></div></label><div class=\"sk-toggleable__content fitted\"><pre>ColumnTransformer(force_int_remainder_cols=False, remainder=&#x27;passthrough&#x27;,\n",
       "                  transformers=[(&#x27;comp&#x27;, OneHotEncoder(), [&#x27;Compound&#x27;])])</pre></div> </div></div><div class=\"sk-parallel\"><div class=\"sk-parallel-item\"><div class=\"sk-item\"><div class=\"sk-label-container\"><div class=\"sk-label fitted sk-toggleable\"><input class=\"sk-toggleable__control sk-hidden--visually\" id=\"sk-estimator-id-3\" type=\"checkbox\" ><label for=\"sk-estimator-id-3\" class=\"sk-toggleable__label fitted sk-toggleable__label-arrow\"><div><div>comp</div></div></label><div class=\"sk-toggleable__content fitted\"><pre>[&#x27;Compound&#x27;]</pre></div> </div></div><div class=\"sk-serial\"><div class=\"sk-item\"><div class=\"sk-estimator fitted sk-toggleable\"><input class=\"sk-toggleable__control sk-hidden--visually\" id=\"sk-estimator-id-4\" type=\"checkbox\" ><label for=\"sk-estimator-id-4\" class=\"sk-toggleable__label fitted sk-toggleable__label-arrow\"><div><div>OneHotEncoder</div></div><div><a class=\"sk-estimator-doc-link fitted\" rel=\"noreferrer\" target=\"_blank\" href=\"https://scikit-learn.org/1.6/modules/generated/sklearn.preprocessing.OneHotEncoder.html\">?<span>Documentation for OneHotEncoder</span></a></div></label><div class=\"sk-toggleable__content fitted\"><pre>OneHotEncoder()</pre></div> </div></div></div></div></div><div class=\"sk-parallel-item\"><div class=\"sk-item\"><div class=\"sk-label-container\"><div class=\"sk-label fitted sk-toggleable\"><input class=\"sk-toggleable__control sk-hidden--visually\" id=\"sk-estimator-id-5\" type=\"checkbox\" ><label for=\"sk-estimator-id-5\" class=\"sk-toggleable__label fitted sk-toggleable__label-arrow\"><div><div>remainder</div></div></label><div class=\"sk-toggleable__content fitted\"><pre>[&#x27;TyreLife&#x27;]</pre></div> </div></div><div class=\"sk-serial\"><div class=\"sk-item\"><div class=\"sk-estimator fitted sk-toggleable\"><input class=\"sk-toggleable__control sk-hidden--visually\" id=\"sk-estimator-id-6\" type=\"checkbox\" ><label for=\"sk-estimator-id-6\" class=\"sk-toggleable__label fitted sk-toggleable__label-arrow\"><div><div>passthrough</div></div></label><div class=\"sk-toggleable__content fitted\"><pre>passthrough</pre></div> </div></div></div></div></div></div></div><div class=\"sk-item\"><div class=\"sk-estimator fitted sk-toggleable\"><input class=\"sk-toggleable__control sk-hidden--visually\" id=\"sk-estimator-id-7\" type=\"checkbox\" ><label for=\"sk-estimator-id-7\" class=\"sk-toggleable__label fitted sk-toggleable__label-arrow\"><div><div>RandomForestRegressor</div></div><div><a class=\"sk-estimator-doc-link fitted\" rel=\"noreferrer\" target=\"_blank\" href=\"https://scikit-learn.org/1.6/modules/generated/sklearn.ensemble.RandomForestRegressor.html\">?<span>Documentation for RandomForestRegressor</span></a></div></label><div class=\"sk-toggleable__content fitted\"><pre>RandomForestRegressor(max_depth=8, random_state=42)</pre></div> </div></div></div></div></div></div>"
      ],
      "text/plain": [
       "Pipeline(steps=[('preprocessor',\n",
       "                 ColumnTransformer(force_int_remainder_cols=False,\n",
       "                                   remainder='passthrough',\n",
       "                                   transformers=[('comp', OneHotEncoder(),\n",
       "                                                  ['Compound'])])),\n",
       "                ('regressor',\n",
       "                 RandomForestRegressor(max_depth=8, random_state=42))])"
      ]
     },
     "execution_count": 6,
     "metadata": {},
     "output_type": "execute_result"
    }
   ],
   "source": [
    "X = driver_laps[['TyreLife', 'Compound']]\n",
    "y = driver_laps['LapTimeSeconds']\n",
    "\n",
    "preprocessor = ColumnTransformer (force_int_remainder_cols=False,\n",
    "    transformers=[('comp', OneHotEncoder(), ['Compound'])],\n",
    "    remainder='passthrough')\n",
    "\n",
    "model = Pipeline([\n",
    "    ('preprocessor', preprocessor), ('regressor', RandomForestRegressor(\n",
    "        n_estimators=100,\n",
    "        max_depth=8,        \n",
    "        random_state=42\n",
    "    ))\n",
    "])\n",
    "\n",
    "model.fit(X, y)"
   ]
  },
  {
   "cell_type": "code",
   "execution_count": 7,
   "id": "ca4248d1-8881-4a7a-819b-786cd795f717",
   "metadata": {},
   "outputs": [],
   "source": [
    "def simulate_stint(start_lap, end_lap, compound, model):\n",
    "    tyre_ages = list(range(end_lap - start_lap + 1))\n",
    "\n",
    "    valid_compounds = driver_laps['Compound'].unique()\n",
    "    if compound not in valid_compounds:\n",
    "        raise ValueError(f\"'{compound}' not found in training data. Use one of: {valid_compounds}\")\n",
    "        \n",
    "    data = pd.DataFrame({\n",
    "        'TyreLife': tyre_ages,\n",
    "        'Compound': [compound] * len(tyre_ages)\n",
    "    })\n",
    "    predicted_laps = model.predict(data)\n",
    "    return predicted_laps"
   ]
  },
  {
   "cell_type": "code",
   "execution_count": 8,
   "id": "dc0ffae8-1169-41d7-ab72-8b5dd791d49b",
   "metadata": {},
   "outputs": [],
   "source": [
    "def simulate_strategy(strategy, model, pit_loss=20.0):\n",
    "    total_time = 0\n",
    "    full_laps = []\n",
    "    \n",
    "    for i, stint in enumerate(strategy):\n",
    "        stint_laps = simulate_stint(stint['start_lap'], stint['end_lap'], stint['compound'], model)\n",
    "        full_laps.extend(stint_laps)\n",
    "        total_time += np.sum(stint_laps)\n",
    "        \n",
    "        # Adding pit stop loss (except for last stint)\n",
    "        if i < len(strategy) - 1:\n",
    "            total_time += pit_loss\n",
    "\n",
    "    return total_time, full_laps"
   ]
  },
  {
   "cell_type": "code",
   "execution_count": 9,
   "id": "b69d09d2-9c18-4d1f-9d55-e198e9aef899",
   "metadata": {},
   "outputs": [],
   "source": [
    "strategy_1_stop = [\n",
    "    {'compound': 'MEDIUM', 'start_lap': 1, 'end_lap': 15},\n",
    "    {'compound': 'HARD', 'start_lap': 16, 'end_lap': 53}\n",
    "]\n",
    "\n",
    "strategy_2_stop = [\n",
    "    {'compound': 'MEDIUM', 'start_lap': 1, 'end_lap': 17},\n",
    "    {'compound': 'HARD', 'start_lap': 18, 'end_lap': 31},\n",
    "    {'compound': 'MEDIUM', 'start_lap': 32, 'end_lap': 53}\n",
    "]\n",
    "\n",
    "total_time_1, laps_1 = simulate_strategy(strategy_1_stop, model)\n",
    "total_time_2, laps_2 = simulate_strategy(strategy_2_stop, model)"
   ]
  },
  {
   "cell_type": "code",
   "execution_count": 10,
   "id": "501c2f6e-d63a-402d-9d47-def30215cea0",
   "metadata": {},
   "outputs": [
    {
     "name": "stdout",
     "output_type": "stream",
     "text": [
      "1-Stop Strategy Time: 1:14:32.653\n",
      "2-Stop Strategy Time: 1:15:29.714\n"
     ]
    }
   ],
   "source": [
    "from datetime import timedelta\n",
    "\n",
    "def format_time(seconds):\n",
    "    td = timedelta(seconds=seconds)\n",
    "    total_seconds = int(td.total_seconds())\n",
    "    hours = total_seconds // 3600\n",
    "    minutes = (total_seconds % 3600) // 60\n",
    "    secs = total_seconds % 60\n",
    "    millis = int((td.total_seconds() - total_seconds) * 1000)\n",
    "    return f\"{hours}:{minutes:02}:{secs:02}.{millis:03}\"\n",
    "\n",
    "print(\"1-Stop Strategy Time:\", format_time(total_time_1))\n",
    "print(\"2-Stop Strategy Time:\", format_time(total_time_2))"
   ]
  },
  {
   "cell_type": "code",
   "execution_count": 11,
   "id": "a2d9606d-4dc3-4986-bca4-2fad75722e02",
   "metadata": {},
   "outputs": [
    {
     "data": {
      "application/vnd.plotly.v1+json": {
       "config": {
        "plotlyServerURL": "https://plot.ly"
       },
       "data": [
        {
         "line": {
          "color": "blue"
         },
         "mode": "lines+markers",
         "name": "1-Stop Strategy",
         "type": "scatter",
         "x": [
          1,
          2,
          3,
          4,
          5,
          6,
          7,
          8,
          9,
          10,
          11,
          12,
          13,
          14,
          15,
          16,
          17,
          18,
          19,
          20,
          21,
          22,
          23,
          24,
          25,
          26,
          27,
          28,
          29,
          30,
          31,
          32,
          33,
          34,
          35,
          36,
          37,
          38,
          39,
          40,
          41,
          42,
          43,
          44,
          45,
          46,
          47,
          48,
          49,
          50,
          51,
          52,
          53
         ],
         "y": [
          85.25677999999999,
          85.25677999999999,
          85.25677999999999,
          85.17432000000002,
          84.89428000000011,
          84.66556000000006,
          84.63268999999991,
          84.51118000000001,
          84.52206000000012,
          84.40406000000004,
          84.44344999999996,
          84.72800999999993,
          84.91720000000007,
          85.31307000000011,
          85.47823999999996,
          84.16264000000015,
          84.16264000000015,
          84.16264000000015,
          84.01649000000009,
          84.08275000000015,
          83.92944000000007,
          83.86256000000004,
          83.80050000000001,
          83.81871333333322,
          83.69595333333335,
          83.5875333333334,
          83.41046416666663,
          83.44955083333323,
          83.33224583333322,
          83.25936083333339,
          83.36756750000013,
          83.80576499999995,
          83.46759500000007,
          83.25637999999998,
          83.38599161904763,
          83.61561172186144,
          83.67536990367962,
          83.63267390331892,
          83.64004799855697,
          83.6741430818903,
          83.67274058189031,
          83.64833226046176,
          83.66399392712847,
          83.753254161977,
          83.57975163023097,
          83.64128743578638,
          83.6320768643578,
          83.63260208658008,
          83.55090485714285,
          83.49829369047615,
          83.49124569047619,
          83.54686411904765,
          83.63287431746033
         ]
        },
        {
         "line": {
          "color": "green"
         },
         "mode": "lines+markers",
         "name": "2-Stop Strategy",
         "type": "scatter",
         "x": [
          1,
          2,
          3,
          4,
          5,
          6,
          7,
          8,
          9,
          10,
          11,
          12,
          13,
          14,
          15,
          16,
          17,
          18,
          19,
          20,
          21,
          22,
          23,
          24,
          25,
          26,
          27,
          28,
          29,
          30,
          31,
          32,
          33,
          34,
          35,
          36,
          37,
          38,
          39,
          40,
          41,
          42,
          43,
          44,
          45,
          46,
          47,
          48,
          49,
          50,
          51,
          52,
          53
         ],
         "y": [
          85.25677999999999,
          85.25677999999999,
          85.25677999999999,
          85.17432000000002,
          84.89428000000011,
          84.66556000000006,
          84.63268999999991,
          84.51118000000001,
          84.52206000000012,
          84.40406000000004,
          84.44344999999996,
          84.72800999999993,
          84.91720000000007,
          85.31307000000011,
          85.47823999999996,
          85.47953999999996,
          85.48566999999996,
          84.16264000000015,
          84.16264000000015,
          84.16264000000015,
          84.01649000000009,
          84.08275000000015,
          83.92944000000007,
          83.86256000000004,
          83.80050000000001,
          83.81871333333322,
          83.69595333333335,
          83.5875333333334,
          83.41046416666663,
          83.44955083333323,
          83.33224583333322,
          85.25677999999999,
          85.25677999999999,
          85.25677999999999,
          85.17432000000002,
          84.89428000000011,
          84.66556000000006,
          84.63268999999991,
          84.51118000000001,
          84.52206000000012,
          84.40406000000004,
          84.44344999999996,
          84.72800999999993,
          84.91720000000007,
          85.31307000000011,
          85.47823999999996,
          85.47953999999996,
          85.48566999999996,
          85.47868999999996,
          85.47820999999995,
          85.47820999999995,
          85.48275999999994,
          85.48308999999996
         ]
        }
       ],
       "layout": {
        "legend": {
         "title": {
          "text": "Strategy"
         }
        },
        "template": {
         "data": {
          "bar": [
           {
            "error_x": {
             "color": "#2a3f5f"
            },
            "error_y": {
             "color": "#2a3f5f"
            },
            "marker": {
             "line": {
              "color": "white",
              "width": 0.5
             },
             "pattern": {
              "fillmode": "overlay",
              "size": 10,
              "solidity": 0.2
             }
            },
            "type": "bar"
           }
          ],
          "barpolar": [
           {
            "marker": {
             "line": {
              "color": "white",
              "width": 0.5
             },
             "pattern": {
              "fillmode": "overlay",
              "size": 10,
              "solidity": 0.2
             }
            },
            "type": "barpolar"
           }
          ],
          "carpet": [
           {
            "aaxis": {
             "endlinecolor": "#2a3f5f",
             "gridcolor": "#C8D4E3",
             "linecolor": "#C8D4E3",
             "minorgridcolor": "#C8D4E3",
             "startlinecolor": "#2a3f5f"
            },
            "baxis": {
             "endlinecolor": "#2a3f5f",
             "gridcolor": "#C8D4E3",
             "linecolor": "#C8D4E3",
             "minorgridcolor": "#C8D4E3",
             "startlinecolor": "#2a3f5f"
            },
            "type": "carpet"
           }
          ],
          "choropleth": [
           {
            "colorbar": {
             "outlinewidth": 0,
             "ticks": ""
            },
            "type": "choropleth"
           }
          ],
          "contour": [
           {
            "colorbar": {
             "outlinewidth": 0,
             "ticks": ""
            },
            "colorscale": [
             [
              0,
              "#0d0887"
             ],
             [
              0.1111111111111111,
              "#46039f"
             ],
             [
              0.2222222222222222,
              "#7201a8"
             ],
             [
              0.3333333333333333,
              "#9c179e"
             ],
             [
              0.4444444444444444,
              "#bd3786"
             ],
             [
              0.5555555555555556,
              "#d8576b"
             ],
             [
              0.6666666666666666,
              "#ed7953"
             ],
             [
              0.7777777777777778,
              "#fb9f3a"
             ],
             [
              0.8888888888888888,
              "#fdca26"
             ],
             [
              1,
              "#f0f921"
             ]
            ],
            "type": "contour"
           }
          ],
          "contourcarpet": [
           {
            "colorbar": {
             "outlinewidth": 0,
             "ticks": ""
            },
            "type": "contourcarpet"
           }
          ],
          "heatmap": [
           {
            "colorbar": {
             "outlinewidth": 0,
             "ticks": ""
            },
            "colorscale": [
             [
              0,
              "#0d0887"
             ],
             [
              0.1111111111111111,
              "#46039f"
             ],
             [
              0.2222222222222222,
              "#7201a8"
             ],
             [
              0.3333333333333333,
              "#9c179e"
             ],
             [
              0.4444444444444444,
              "#bd3786"
             ],
             [
              0.5555555555555556,
              "#d8576b"
             ],
             [
              0.6666666666666666,
              "#ed7953"
             ],
             [
              0.7777777777777778,
              "#fb9f3a"
             ],
             [
              0.8888888888888888,
              "#fdca26"
             ],
             [
              1,
              "#f0f921"
             ]
            ],
            "type": "heatmap"
           }
          ],
          "histogram": [
           {
            "marker": {
             "pattern": {
              "fillmode": "overlay",
              "size": 10,
              "solidity": 0.2
             }
            },
            "type": "histogram"
           }
          ],
          "histogram2d": [
           {
            "colorbar": {
             "outlinewidth": 0,
             "ticks": ""
            },
            "colorscale": [
             [
              0,
              "#0d0887"
             ],
             [
              0.1111111111111111,
              "#46039f"
             ],
             [
              0.2222222222222222,
              "#7201a8"
             ],
             [
              0.3333333333333333,
              "#9c179e"
             ],
             [
              0.4444444444444444,
              "#bd3786"
             ],
             [
              0.5555555555555556,
              "#d8576b"
             ],
             [
              0.6666666666666666,
              "#ed7953"
             ],
             [
              0.7777777777777778,
              "#fb9f3a"
             ],
             [
              0.8888888888888888,
              "#fdca26"
             ],
             [
              1,
              "#f0f921"
             ]
            ],
            "type": "histogram2d"
           }
          ],
          "histogram2dcontour": [
           {
            "colorbar": {
             "outlinewidth": 0,
             "ticks": ""
            },
            "colorscale": [
             [
              0,
              "#0d0887"
             ],
             [
              0.1111111111111111,
              "#46039f"
             ],
             [
              0.2222222222222222,
              "#7201a8"
             ],
             [
              0.3333333333333333,
              "#9c179e"
             ],
             [
              0.4444444444444444,
              "#bd3786"
             ],
             [
              0.5555555555555556,
              "#d8576b"
             ],
             [
              0.6666666666666666,
              "#ed7953"
             ],
             [
              0.7777777777777778,
              "#fb9f3a"
             ],
             [
              0.8888888888888888,
              "#fdca26"
             ],
             [
              1,
              "#f0f921"
             ]
            ],
            "type": "histogram2dcontour"
           }
          ],
          "mesh3d": [
           {
            "colorbar": {
             "outlinewidth": 0,
             "ticks": ""
            },
            "type": "mesh3d"
           }
          ],
          "parcoords": [
           {
            "line": {
             "colorbar": {
              "outlinewidth": 0,
              "ticks": ""
             }
            },
            "type": "parcoords"
           }
          ],
          "pie": [
           {
            "automargin": true,
            "type": "pie"
           }
          ],
          "scatter": [
           {
            "fillpattern": {
             "fillmode": "overlay",
             "size": 10,
             "solidity": 0.2
            },
            "type": "scatter"
           }
          ],
          "scatter3d": [
           {
            "line": {
             "colorbar": {
              "outlinewidth": 0,
              "ticks": ""
             }
            },
            "marker": {
             "colorbar": {
              "outlinewidth": 0,
              "ticks": ""
             }
            },
            "type": "scatter3d"
           }
          ],
          "scattercarpet": [
           {
            "marker": {
             "colorbar": {
              "outlinewidth": 0,
              "ticks": ""
             }
            },
            "type": "scattercarpet"
           }
          ],
          "scattergeo": [
           {
            "marker": {
             "colorbar": {
              "outlinewidth": 0,
              "ticks": ""
             }
            },
            "type": "scattergeo"
           }
          ],
          "scattergl": [
           {
            "marker": {
             "colorbar": {
              "outlinewidth": 0,
              "ticks": ""
             }
            },
            "type": "scattergl"
           }
          ],
          "scattermap": [
           {
            "marker": {
             "colorbar": {
              "outlinewidth": 0,
              "ticks": ""
             }
            },
            "type": "scattermap"
           }
          ],
          "scattermapbox": [
           {
            "marker": {
             "colorbar": {
              "outlinewidth": 0,
              "ticks": ""
             }
            },
            "type": "scattermapbox"
           }
          ],
          "scatterpolar": [
           {
            "marker": {
             "colorbar": {
              "outlinewidth": 0,
              "ticks": ""
             }
            },
            "type": "scatterpolar"
           }
          ],
          "scatterpolargl": [
           {
            "marker": {
             "colorbar": {
              "outlinewidth": 0,
              "ticks": ""
             }
            },
            "type": "scatterpolargl"
           }
          ],
          "scatterternary": [
           {
            "marker": {
             "colorbar": {
              "outlinewidth": 0,
              "ticks": ""
             }
            },
            "type": "scatterternary"
           }
          ],
          "surface": [
           {
            "colorbar": {
             "outlinewidth": 0,
             "ticks": ""
            },
            "colorscale": [
             [
              0,
              "#0d0887"
             ],
             [
              0.1111111111111111,
              "#46039f"
             ],
             [
              0.2222222222222222,
              "#7201a8"
             ],
             [
              0.3333333333333333,
              "#9c179e"
             ],
             [
              0.4444444444444444,
              "#bd3786"
             ],
             [
              0.5555555555555556,
              "#d8576b"
             ],
             [
              0.6666666666666666,
              "#ed7953"
             ],
             [
              0.7777777777777778,
              "#fb9f3a"
             ],
             [
              0.8888888888888888,
              "#fdca26"
             ],
             [
              1,
              "#f0f921"
             ]
            ],
            "type": "surface"
           }
          ],
          "table": [
           {
            "cells": {
             "fill": {
              "color": "#EBF0F8"
             },
             "line": {
              "color": "white"
             }
            },
            "header": {
             "fill": {
              "color": "#C8D4E3"
             },
             "line": {
              "color": "white"
             }
            },
            "type": "table"
           }
          ]
         },
         "layout": {
          "annotationdefaults": {
           "arrowcolor": "#2a3f5f",
           "arrowhead": 0,
           "arrowwidth": 1
          },
          "autotypenumbers": "strict",
          "coloraxis": {
           "colorbar": {
            "outlinewidth": 0,
            "ticks": ""
           }
          },
          "colorscale": {
           "diverging": [
            [
             0,
             "#8e0152"
            ],
            [
             0.1,
             "#c51b7d"
            ],
            [
             0.2,
             "#de77ae"
            ],
            [
             0.3,
             "#f1b6da"
            ],
            [
             0.4,
             "#fde0ef"
            ],
            [
             0.5,
             "#f7f7f7"
            ],
            [
             0.6,
             "#e6f5d0"
            ],
            [
             0.7,
             "#b8e186"
            ],
            [
             0.8,
             "#7fbc41"
            ],
            [
             0.9,
             "#4d9221"
            ],
            [
             1,
             "#276419"
            ]
           ],
           "sequential": [
            [
             0,
             "#0d0887"
            ],
            [
             0.1111111111111111,
             "#46039f"
            ],
            [
             0.2222222222222222,
             "#7201a8"
            ],
            [
             0.3333333333333333,
             "#9c179e"
            ],
            [
             0.4444444444444444,
             "#bd3786"
            ],
            [
             0.5555555555555556,
             "#d8576b"
            ],
            [
             0.6666666666666666,
             "#ed7953"
            ],
            [
             0.7777777777777778,
             "#fb9f3a"
            ],
            [
             0.8888888888888888,
             "#fdca26"
            ],
            [
             1,
             "#f0f921"
            ]
           ],
           "sequentialminus": [
            [
             0,
             "#0d0887"
            ],
            [
             0.1111111111111111,
             "#46039f"
            ],
            [
             0.2222222222222222,
             "#7201a8"
            ],
            [
             0.3333333333333333,
             "#9c179e"
            ],
            [
             0.4444444444444444,
             "#bd3786"
            ],
            [
             0.5555555555555556,
             "#d8576b"
            ],
            [
             0.6666666666666666,
             "#ed7953"
            ],
            [
             0.7777777777777778,
             "#fb9f3a"
            ],
            [
             0.8888888888888888,
             "#fdca26"
            ],
            [
             1,
             "#f0f921"
            ]
           ]
          },
          "colorway": [
           "#636efa",
           "#EF553B",
           "#00cc96",
           "#ab63fa",
           "#FFA15A",
           "#19d3f3",
           "#FF6692",
           "#B6E880",
           "#FF97FF",
           "#FECB52"
          ],
          "font": {
           "color": "#2a3f5f"
          },
          "geo": {
           "bgcolor": "white",
           "lakecolor": "white",
           "landcolor": "white",
           "showlakes": true,
           "showland": true,
           "subunitcolor": "#C8D4E3"
          },
          "hoverlabel": {
           "align": "left"
          },
          "hovermode": "closest",
          "mapbox": {
           "style": "light"
          },
          "paper_bgcolor": "white",
          "plot_bgcolor": "white",
          "polar": {
           "angularaxis": {
            "gridcolor": "#EBF0F8",
            "linecolor": "#EBF0F8",
            "ticks": ""
           },
           "bgcolor": "white",
           "radialaxis": {
            "gridcolor": "#EBF0F8",
            "linecolor": "#EBF0F8",
            "ticks": ""
           }
          },
          "scene": {
           "xaxis": {
            "backgroundcolor": "white",
            "gridcolor": "#DFE8F3",
            "gridwidth": 2,
            "linecolor": "#EBF0F8",
            "showbackground": true,
            "ticks": "",
            "zerolinecolor": "#EBF0F8"
           },
           "yaxis": {
            "backgroundcolor": "white",
            "gridcolor": "#DFE8F3",
            "gridwidth": 2,
            "linecolor": "#EBF0F8",
            "showbackground": true,
            "ticks": "",
            "zerolinecolor": "#EBF0F8"
           },
           "zaxis": {
            "backgroundcolor": "white",
            "gridcolor": "#DFE8F3",
            "gridwidth": 2,
            "linecolor": "#EBF0F8",
            "showbackground": true,
            "ticks": "",
            "zerolinecolor": "#EBF0F8"
           }
          },
          "shapedefaults": {
           "line": {
            "color": "#2a3f5f"
           }
          },
          "ternary": {
           "aaxis": {
            "gridcolor": "#DFE8F3",
            "linecolor": "#A2B1C6",
            "ticks": ""
           },
           "baxis": {
            "gridcolor": "#DFE8F3",
            "linecolor": "#A2B1C6",
            "ticks": ""
           },
           "bgcolor": "white",
           "caxis": {
            "gridcolor": "#DFE8F3",
            "linecolor": "#A2B1C6",
            "ticks": ""
           }
          },
          "title": {
           "x": 0.05
          },
          "xaxis": {
           "automargin": true,
           "gridcolor": "#EBF0F8",
           "linecolor": "#EBF0F8",
           "ticks": "",
           "title": {
            "standoff": 15
           },
           "zerolinecolor": "#EBF0F8",
           "zerolinewidth": 2
          },
          "yaxis": {
           "automargin": true,
           "gridcolor": "#EBF0F8",
           "linecolor": "#EBF0F8",
           "ticks": "",
           "title": {
            "standoff": 15
           },
           "zerolinecolor": "#EBF0F8",
           "zerolinewidth": 2
          }
         }
        },
        "title": {
         "text": "Simulated Lap Times - 2024 Italian GP (Charles Leclerc)"
        },
        "xaxis": {
         "title": {
          "text": "Lap Number"
         }
        },
        "yaxis": {
         "title": {
          "text": "Predicted Lap Time (s)"
         }
        }
       }
      },
      "image/png": "[encoded data removed]"
     },
     "metadata": {},
     "output_type": "display_data"
    }
   ],
   "source": [
    "fig = go.Figure()\n",
    "\n",
    "fig.add_trace(go.Scatter(\n",
    "    y=laps_1,\n",
    "    x=list(range(1, len(laps_1) + 1)),\n",
    "    mode='lines+markers',\n",
    "    name='1-Stop Strategy',\n",
    "    line=dict(color='blue')\n",
    "))\n",
    "\n",
    "fig.add_trace(go.Scatter(\n",
    "    y=laps_2,\n",
    "    x=list(range(1, len(laps_2) + 1)),\n",
    "    mode='lines+markers',\n",
    "    name='2-Stop Strategy',\n",
    "    line=dict(color='green')\n",
    "))\n",
    "\n",
    "fig.update_layout(\n",
    "    title=\"Simulated Lap Times - 2024 Italian GP (Charles Leclerc)\",\n",
    "    xaxis_title=\"Lap Number\",\n",
    "    yaxis_title=\"Predicted Lap Time (s)\",\n",
    "    legend_title=\"Strategy\",\n",
    "    template=\"plotly_white\"\n",
    ")\n",
    "\n",
    "fig.show()"
   ]
  },
  {
   "cell_type": "code",
   "execution_count": 12,
   "id": "1c3df9ce-7d91-49a4-95c5-ed2a12ebe5d8",
   "metadata": {},
   "outputs": [
    {
     "name": "stdout",
     "output_type": "stream",
     "text": [
      "RMSE: 0.085 seconds\n"
     ]
    }
   ],
   "source": [
    "from sklearn.metrics import mean_squared_error\n",
    "\n",
    "y_pred = model.predict(X)\n",
    "mse = mean_squared_error(y, y_pred)\n",
    "rmse = np.sqrt(mse)\n",
    "print(f\"RMSE: {rmse:.3f} seconds\")"
   ]
  },
  {
   "cell_type": "code",
   "execution_count": null,
   "id": "299c49de-d62b-4b20-aaad-5e57fdcf2f25",
   "metadata": {},
   "outputs": [],
   "source": []
  }
 ],
 "metadata": {
  "kernelspec": {
   "display_name": "Python (f1env)",
   "language": "python",
   "name": "f1env"
  },
  "language_info": {
   "codemirror_mode": {
    "name": "ipython",
    "version": 3
   },
   "file_extension": ".py",
   "mimetype": "text/x-python",
   "name": "python",
   "nbconvert_exporter": "python",
   "pygments_lexer": "ipython3",
   "version": "3.13.2"
  }
 },
 "nbformat": 4,
 "nbformat_minor": 5
}
